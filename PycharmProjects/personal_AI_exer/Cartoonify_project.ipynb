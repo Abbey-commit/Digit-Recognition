{
 "cells": [
  {
   "cell_type": "code",
   "execution_count": 21,
   "metadata": {},
   "outputs": [],
   "source": [
    "import cv2 # for image processing\n",
    "import easygui # to store filebox\n",
    "import numpy as np # to store image\n",
    "import imageio # to read image stored at particular path\n",
    "import sys\n",
    "import matplotlib.pyplot as plt\n",
    "import os\n",
    "import tkinter as tk\n",
    "from tkinter import *\n",
    "from tkinter import filedialog\n",
    "from PIL import Image"
   ]
  },
  {
   "cell_type": "code",
   "execution_count": 22,
   "metadata": {},
   "outputs": [],
   "source": [
    "top=tk.Tk()\n",
    "top.geometry('400x400')\n",
    "top.title('Cartoonify Your Image !')\n",
    "top.configure(background='white')\n",
    "label=Label(top,background='#CDCDCD', font=('calibri',20,'bold'))\n",
    "\n",
    "\"\"\"fileopenbox opens the box to choose file\n",
    "and help us store file path as string\"\"\"\n",
    "def upload():\n",
    "    ImagePath=easygui.fileopenbox()\n",
    "    cartoonify(ImagePath)"
   ]
  },
  {
   "cell_type": "code",
   "execution_count": 26,
   "metadata": {},
   "outputs": [],
   "source": [
    "def cartoonify(ImagePath):\n",
    "    #read the image\n",
    "    originalmage = cv2.imread(ImagePath)\n",
    "    originalmage = cv2.cvtColor(originalmage, cv2.COLOR_BGR2RGB)\n",
    "    print(image) # image is stored in form of numbers\n",
    "\n",
    "# confirm that image is chosen\n",
    "    if originalmage is None:\n",
    "        print(\"Can not find any image. Choose appropriate file\")\n",
    "        sys.exit()\n",
    "        \n",
    "    Resized1 = cv2.resize(originalmage, (960, 540))\n",
    "#plt.show(Resized1, cmap='gray')\n",
    "    \n",
    "    # Converting an image to grayscale\n",
    "    grayScaleImage = cv2.cvtColor(originalmage, cv2.COLOR_BRG2GRAY)\n",
    "    Resized2 = cv2.resize(grayScaleImage, (960, 540))\n",
    "    plt.imshow(Resized2, cmap='gray')\n",
    "    \n",
    "    # applying median blur to smoothen an image\n",
    "    smoothGrayScale = cv2.medianBlur(grayScaleImage)\n",
    "    Resized3 = cv2.resize(smoothGrayScale, (960, 540))\n",
    "    #plt.imshow(Resized3, cmap='gray')\n",
    "    \n",
    "    #retreiving the edges for cartoon effect\n",
    "    #by using thresholding technique\n",
    "    getEdge = cv2.adaptiveThreshold(smoothGrayScale, 255, \n",
    "                                    cv2.ADAPTIVE_THRESH_MEAN_C,\n",
    "                                    cv2.THRESH_BINARY, 9, 9)\n",
    "    \n",
    "    Resized4 = cv2.resize(getEdge, (960, 540))\n",
    "    #plt.imshow(Resized4, cmap='gray')\n",
    "    \n",
    "    #Applying bilateral filter to remove noise\n",
    "    #and keep edge sharp as required\n",
    "    colourImage = cv2bilateralFilter(originalmage, 9, 300, 300)\n",
    "    Resized5 = cv2.resize(colorImage, (960, 540))\n",
    "    #plt.imshow(Resized5, cmap='gray')\n",
    "    \n",
    "    #Masking edged image with our \"BEAUTIFY\" image\n",
    "    cartoonImage = cv2bitwise_and(colorImage, colorImage, mask=getEdge)\n",
    "    \n",
    "    Resized6 = cv2.resize(cartoonImage, (960, 540))\n",
    "    #plt.imshow(ReSized6, cmap='gray')\n",
    "    \n",
    "    \n",
    "    #Plotting the whole transition\n",
    "    images=[Resized1, Resized2, Resized3, Resized4, Resized5, Resized6]\n",
    "    fig, axes=plt.subplots(3,2, figsize=(8,8), subplot_fw={'xticks':[], 'yticks':[]},\n",
    "    gridspec_kw=dict(hspace=0.1, wspace=0.1))\n",
    "    for i, ax in enumerate(axes.flat):\n",
    "        ax.imshow(images[i], cmap='gray')\n",
    "    save1=Button(top,text=\"Save cartoon image\",command=lambda: save(ReSized6, ImagePath),padx=30,pady=5)\n",
    "    save1.configure(background='#364156', foreground='white',font=('calibri',10,'bold'))\n",
    "    save1.pack(side=TOP,pady=50)\n",
    "    plt.show\n",
    "    "
   ]
  },
  {
   "cell_type": "code",
   "execution_count": 18,
   "metadata": {},
   "outputs": [
    {
     "ename": "NameError",
     "evalue": "name 'originalmage' is not defined",
     "output_type": "error",
     "traceback": [
      "\u001b[1;31m---------------------------------------------------------------------------\u001b[0m",
      "\u001b[1;31mNameError\u001b[0m                                 Traceback (most recent call last)",
      "\u001b[1;32m<ipython-input-18-b16d588fa774>\u001b[0m in \u001b[0;36m<module>\u001b[1;34m\u001b[0m\n\u001b[0;32m      1\u001b[0m \u001b[1;31m# Converting an image to grayscale\u001b[0m\u001b[1;33m\u001b[0m\u001b[1;33m\u001b[0m\u001b[1;33m\u001b[0m\u001b[0m\n\u001b[1;32m----> 2\u001b[1;33m \u001b[0mgrayScaleImage\u001b[0m \u001b[1;33m=\u001b[0m \u001b[0mcv2\u001b[0m\u001b[1;33m.\u001b[0m\u001b[0mcvtColor\u001b[0m\u001b[1;33m(\u001b[0m\u001b[0moriginalmage\u001b[0m\u001b[1;33m,\u001b[0m \u001b[0mcv2\u001b[0m\u001b[1;33m.\u001b[0m\u001b[0mCOLOR_BRG2GRAY\u001b[0m\u001b[1;33m)\u001b[0m\u001b[1;33m\u001b[0m\u001b[1;33m\u001b[0m\u001b[0m\n\u001b[0m\u001b[0;32m      3\u001b[0m \u001b[0mResized2\u001b[0m \u001b[1;33m=\u001b[0m \u001b[0mcv2\u001b[0m\u001b[1;33m.\u001b[0m\u001b[0mresize\u001b[0m\u001b[1;33m(\u001b[0m\u001b[0mgrayScaleImage\u001b[0m\u001b[1;33m,\u001b[0m \u001b[1;33m(\u001b[0m\u001b[1;36m960\u001b[0m\u001b[1;33m,\u001b[0m \u001b[1;36m540\u001b[0m\u001b[1;33m)\u001b[0m\u001b[1;33m)\u001b[0m\u001b[1;33m\u001b[0m\u001b[1;33m\u001b[0m\u001b[0m\n\u001b[0;32m      4\u001b[0m \u001b[0mplt\u001b[0m\u001b[1;33m.\u001b[0m\u001b[0mimshow\u001b[0m\u001b[1;33m(\u001b[0m\u001b[0mResized2\u001b[0m\u001b[1;33m,\u001b[0m \u001b[0mcmap\u001b[0m\u001b[1;33m=\u001b[0m\u001b[1;34m'gray'\u001b[0m\u001b[1;33m)\u001b[0m\u001b[1;33m\u001b[0m\u001b[1;33m\u001b[0m\u001b[0m\n",
      "\u001b[1;31mNameError\u001b[0m: name 'originalmage' is not defined"
     ]
    }
   ],
   "source": [
    "# confirm that image is chosen\n",
    "    if originalmage is None:\n",
    "        print(\"Can not find any image. Choose appropriate file\")\n",
    "        sys.exit()"
   ]
  },
  {
   "cell_type": "code",
   "execution_count": null,
   "metadata": {},
   "outputs": [],
   "source": []
  }
 ],
 "metadata": {
  "kernelspec": {
   "display_name": "Python 3",
   "language": "python",
   "name": "python3"
  },
  "language_info": {
   "codemirror_mode": {
    "name": "ipython",
    "version": 3
   },
   "file_extension": ".py",
   "mimetype": "text/x-python",
   "name": "python",
   "nbconvert_exporter": "python",
   "pygments_lexer": "ipython3",
   "version": "3.7.6"
  }
 },
 "nbformat": 4,
 "nbformat_minor": 4
}
