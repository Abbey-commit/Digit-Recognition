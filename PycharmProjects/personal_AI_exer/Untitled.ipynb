{
 "cells": [
  {
   "cell_type": "code",
   "execution_count": 13,
   "metadata": {},
   "outputs": [
    {
     "name": "stdout",
     "output_type": "stream",
     "text": [
      "The value of a 23 and b 23\n"
     ]
    }
   ],
   "source": [
    "a = 12; b = 23 #Multiply a single line\n",
    "\n",
    "print(\"The value of a {1} and b {1}\".format(a, b))"
   ]
  },
  {
   "cell_type": "code",
   "execution_count": 14,
   "metadata": {},
   "outputs": [
    {
     "name": "stdout",
     "output_type": "stream",
     "text": [
      "Hello Tayo! How are you\n"
     ]
    }
   ],
   "source": [
    "print(\"Hello {name} {greeting}\".format(name = \"Tayo!\", greeting = \"How are you\"))"
   ]
  },
  {
   "cell_type": "code",
   "execution_count": 17,
   "metadata": {},
   "outputs": [
    {
     "name": "stdout",
     "output_type": "stream",
     "text": [
      "The story of Bill Manfred and George\n"
     ]
    }
   ],
   "source": [
    "print(\"The story of {0} {1} and {other}\".format(\"Bill\", \"Manfred\", other=\"George\"))"
   ]
  },
  {
   "cell_type": "code",
   "execution_count": 18,
   "metadata": {},
   "outputs": [
    {
     "name": "stdout",
     "output_type": "stream",
     "text": [
      "Enter a number, 60\n"
     ]
    },
    {
     "data": {
      "text/plain": [
       "'60'"
      ]
     },
     "execution_count": 18,
     "metadata": {},
     "output_type": "execute_result"
    }
   ],
   "source": [
    "num  = input(\"Enter a number, \")\n",
    "num"
   ]
  },
  {
   "cell_type": "code",
   "execution_count": 19,
   "metadata": {},
   "outputs": [
    {
     "name": "stdout",
     "output_type": "stream",
     "text": [
      "This will always print\n"
     ]
    }
   ],
   "source": [
    "num = 10\n",
    "\n",
    "#This \n",
    "if num < 10:\n",
    "    print(\"The is positive\")\n",
    "print(\"This will always print\")"
   ]
  },
  {
   "cell_type": "code",
   "execution_count": 20,
   "metadata": {},
   "outputs": [
    {
     "name": "stdout",
     "output_type": "stream",
     "text": [
      "Largest among the element is 60\n"
     ]
    }
   ],
   "source": [
    "num1 = 14\n",
    "num2 = 30\n",
    "num3 = 60\n",
    "\n",
    "if (num1 >= num2) and (num1 >= num2):\n",
    "    largest = num1\n",
    "elif (num2 >= num1) and (num2 >= num3):\n",
    "    largest = num2\n",
    "else:\n",
    "    largest = num3\n",
    "    print(\"Largest among the element is {}\".format(largest))"
   ]
  },
  {
   "cell_type": "code",
   "execution_count": 21,
   "metadata": {},
   "outputs": [
    {
     "name": "stdout",
     "output_type": "stream",
     "text": [
      "Negative\n"
     ]
    }
   ],
   "source": [
    "num = -2\n",
    "\n",
    "if (num >= 0):\n",
    "    if (num == 10.5):\n",
    "        print(\"equal\")\n",
    "    else:\n",
    "        print(\"Positive\")\n",
    "else:\n",
    "    print(\"Negative\")\n",
    "    \n",
    "    "
   ]
  },
  {
   "cell_type": "code",
   "execution_count": 24,
   "metadata": {},
   "outputs": [
    {
     "name": "stdout",
     "output_type": "stream",
     "text": [
      "The value of product is 12000000, and index 5 \n"
     ]
    }
   ],
   "source": [
    "lst = [10, 20 ,30 ,40, 50]\n",
    "\n",
    "product = 1\n",
    "index = 0\n",
    "\n",
    "while index < len(lst):\n",
    "    product *= lst[index]\n",
    "    index += 1\n",
    "print(\"The value of product is {}, and index {} \".format(product, index))"
   ]
  },
  {
   "cell_type": "code",
   "execution_count": 25,
   "metadata": {},
   "outputs": [
    {
     "name": "stdout",
     "output_type": "stream",
     "text": [
      "Enter a number: 45\n"
     ]
    },
    {
     "ename": "IndexError",
     "evalue": "tuple index out of range",
     "output_type": "error",
     "traceback": [
      "\u001b[1;31m---------------------------------------------------------------------------\u001b[0m",
      "\u001b[1;31mIndexError\u001b[0m                                Traceback (most recent call last)",
      "\u001b[1;32m<ipython-input-25-d390bd2fb70d>\u001b[0m in \u001b[0;36m<module>\u001b[1;34m\u001b[0m\n\u001b[0;32m     13\u001b[0m     \u001b[0mprint\u001b[0m\u001b[1;33m(\u001b[0m\u001b[1;34m\"{} Is not a prime number {}\"\u001b[0m\u001b[1;33m.\u001b[0m\u001b[0mformat\u001b[0m\u001b[1;33m(\u001b[0m\u001b[0mnum\u001b[0m\u001b[1;33m)\u001b[0m\u001b[1;33m)\u001b[0m\u001b[1;33m\u001b[0m\u001b[1;33m\u001b[0m\u001b[0m\n\u001b[0;32m     14\u001b[0m \u001b[1;32melse\u001b[0m\u001b[1;33m:\u001b[0m\u001b[1;33m\u001b[0m\u001b[1;33m\u001b[0m\u001b[0m\n\u001b[1;32m---> 15\u001b[1;33m     \u001b[0mprint\u001b[0m\u001b[1;33m(\u001b[0m\u001b[1;34m\"{} Is a prime number {}\"\u001b[0m\u001b[1;33m.\u001b[0m\u001b[0mformat\u001b[0m\u001b[1;33m(\u001b[0m\u001b[0mnum\u001b[0m\u001b[1;33m)\u001b[0m\u001b[1;33m)\u001b[0m\u001b[1;33m\u001b[0m\u001b[1;33m\u001b[0m\u001b[0m\n\u001b[0m",
      "\u001b[1;31mIndexError\u001b[0m: tuple index out of range"
     ]
    }
   ],
   "source": [
    "num = int(input(\"Enter a number: \"))\n",
    "\n",
    "isDivisible = False;\n",
    "\n",
    "i = 2;\n",
    "while i < num:\n",
    "    if num % 2 == 0:\n",
    "        isDivisible = True;\n",
    "        print(\"{} is divisible by {}\".format(num, i) )\n",
    "    i += 1;\n",
    "    \n",
    "if isDivisible:\n",
    "    print(\"{} Is not a prime number {}\".format(num))\n",
    "else:\n",
    "    print(\"{} Is a prime number {}\".format(num))"
   ]
  },
  {
   "cell_type": "code",
   "execution_count": 26,
   "metadata": {},
   "outputs": [
    {
     "name": "stdout",
     "output_type": "stream",
     "text": [
      "Product is: 10368 \n"
     ]
    }
   ],
   "source": [
    "ls = [2, 4, 3, 8, 9, 6]\n",
    "\n",
    "product = 1\n",
    "for ele in ls:\n",
    "    product *= ele\n",
    "print(\"Product is: {} \".format(product))"
   ]
  },
  {
   "cell_type": "code",
   "execution_count": 27,
   "metadata": {},
   "outputs": [
    {
     "name": "stdout",
     "output_type": "stream",
     "text": [
      "Shayo\n",
      "Dayo\n",
      "Tolani\n",
      "Muraino\n",
      "Feyishara\n"
     ]
    }
   ],
   "source": [
    "lst = [\"Shayo\", \"Dayo\", \"Tolani\", \"Muraino\", \"Feyishara\"]\n",
    "\n",
    "# for index in range(len(lst)):\n",
    "#     print(lst[index])\n",
    "for ele in lst:\n",
    "    print(ele)"
   ]
  },
  {
   "cell_type": "code",
   "execution_count": 28,
   "metadata": {},
   "outputs": [
    {
     "name": "stdout",
     "output_type": "stream",
     "text": [
      "Number is divisible by 2 3\n",
      "Number is divisible by 2 5\n",
      "Number is divisible by 2 7\n",
      "els block\n"
     ]
    }
   ],
   "source": [
    "number = [2, 3, 4, 5, 6, 7,]\n",
    "\n",
    "for num in number:\n",
    "    if num % 2 == 0:\n",
    "        continue\n",
    "    print(\"Number is divisible by 2 {}\".format(num))\n",
    "else:\n",
    "    print(\"els block\")\n",
    "    "
   ]
  },
  {
   "cell_type": "code",
   "execution_count": 30,
   "metadata": {},
   "outputs": [
    {
     "name": "stdout",
     "output_type": "stream",
     "text": [
      "Enter a number: 7\n",
      "7 is a prime number \n"
     ]
    }
   ],
   "source": [
    "num = int(input(\"Enter a number: \"))\n",
    "\n",
    "isDivisible = False\n",
    "i = 2\n",
    "\n",
    "while num > i:\n",
    "    if num % 2 == 0:\n",
    "        isDivible = True\n",
    "        print(\"{} is divible by {}\".format(num, i))\n",
    "        break\n",
    "    i += 1\n",
    "if isDivisible:\n",
    "    print(\"{} is not a prime number \".format(num))\n",
    "else:\n",
    "    print(\"{} is a prime number \".format(num))"
   ]
  },
  {
   "cell_type": "code",
   "execution_count": 31,
   "metadata": {},
   "outputs": [
    {
     "name": "stdout",
     "output_type": "stream",
     "text": [
      "[0, 1, 4, 9, 16, 25, 36, 49, 64, 81]\n"
     ]
    }
   ],
   "source": [
    "squares = []\n",
    "\n",
    "for i in range(10):\n",
    "    squares.append(i ** 2) \n",
    "print(squares)"
   ]
  },
  {
   "cell_type": "code",
   "execution_count": 32,
   "metadata": {},
   "outputs": [
    {
     "name": "stdout",
     "output_type": "stream",
     "text": [
      "[0, 1, 4, 9, 16, 25, 36, 49, 64, 81]\n"
     ]
    }
   ],
   "source": [
    "squares = [i**2 for i in range(10)]\n",
    "print(squares)"
   ]
  },
  {
   "cell_type": "code",
   "execution_count": 35,
   "metadata": {},
   "outputs": [
    {
     "name": "stdout",
     "output_type": "stream",
     "text": [
      "[-40, -20, 40, 60, 80]\n",
      "[-20, -10]\n",
      "[(0, 0), (1, 1), (2, 4), (3, 9), (4, 16), (5, 25), (6, 36), (7, 49), (8, 64), (9, 81)]\n"
     ]
    }
   ],
   "source": [
    "lst = [-20, -10, 20, 30, 40]\n",
    "\n",
    "lst_ = [i*2 for i in lst]\n",
    "print(lst_)\n",
    "\n",
    "new_lst = [i for i in lst if i <= 0]\n",
    "print(new_lst)\n",
    "\n",
    "new_lst_ = [(i, i**2) for i in range(10)]\n",
    "print(new_lst_)"
   ]
  },
  {
   "cell_type": "code",
   "execution_count": 44,
   "metadata": {},
   "outputs": [
    {
     "name": "stdout",
     "output_type": "stream",
     "text": [
      "[[1], [2], [3], [4]]\n"
     ]
    }
   ],
   "source": [
    "matrix = [\n",
    "    [1, 2, 3, 4,\n",
    "    2, 9, 1, 6]\n",
    "    \n",
    "]\n",
    "transposed = [[row[i] for row in matrix] for i in range(4)]\n",
    "print(transposed)"
   ]
  },
  {
   "cell_type": "code",
   "execution_count": 46,
   "metadata": {},
   "outputs": [
    {
     "name": "stdout",
     "output_type": "stream",
     "text": [
      "None\n"
     ]
    }
   ],
   "source": [
    "dict = {\"cohort1\": 45, \"cohort\": 30, \"cohort3\": 50, \"cohort\":40}\n",
    "print(dict.get(\"cohort2\"))"
   ]
  },
  {
   "cell_type": "code",
   "execution_count": 47,
   "metadata": {},
   "outputs": [
    {
     "name": "stdout",
     "output_type": "stream",
     "text": [
      "40\n"
     ]
    }
   ],
   "source": [
    "print(dict.get(\"cohort\"))"
   ]
  },
  {
   "cell_type": "code",
   "execution_count": 119,
   "metadata": {},
   "outputs": [
    {
     "data": {
      "text/plain": [
       "4"
      ]
     },
     "execution_count": 119,
     "metadata": {},
     "output_type": "execute_result"
    }
   ],
   "source": [
    "squares = {2: 4, 3: 9, 4: 16, 5: 25}\n",
    "squares[2]"
   ]
  },
  {
   "cell_type": "code",
   "execution_count": 120,
   "metadata": {},
   "outputs": [
    {
     "data": {
      "text/plain": [
       "16"
      ]
     },
     "execution_count": 120,
     "metadata": {},
     "output_type": "execute_result"
    }
   ],
   "source": [
    "squares[4]\n"
   ]
  },
  {
   "cell_type": "code",
   "execution_count": 121,
   "metadata": {},
   "outputs": [
    {
     "name": "stdout",
     "output_type": "stream",
     "text": [
      "{2: 4, 4: 16, 5: 25}\n"
     ]
    }
   ],
   "source": [
    "del squares[3]\n",
    "print(squares)"
   ]
  },
  {
   "cell_type": "code",
   "execution_count": 122,
   "metadata": {},
   "outputs": [
    {
     "data": {
      "text/plain": [
       "dict_items([(2, 4), (4, 16), (5, 25)])"
      ]
     },
     "execution_count": 122,
     "metadata": {},
     "output_type": "execute_result"
    }
   ],
   "source": [
    "squares.items()"
   ]
  },
  {
   "cell_type": "code",
   "execution_count": 123,
   "metadata": {},
   "outputs": [
    {
     "data": {
      "text/plain": [
       "{2: 2, 4: 4}"
      ]
     },
     "execution_count": 123,
     "metadata": {},
     "output_type": "execute_result"
    }
   ],
   "source": [
    "new_squares = {k: k for k, v in squares.items() if k < 5}\n",
    "new_squares"
   ]
  },
  {
   "cell_type": "code",
   "execution_count": 126,
   "metadata": {},
   "outputs": [
    {
     "data": {
      "text/plain": [
       "{2: 16, 4: 256, 5: 625}"
      ]
     },
     "execution_count": 126,
     "metadata": {},
     "output_type": "execute_result"
    }
   ],
   "source": [
    "nw_sq = {k: v ** 2 for k, v in squares.items()}\n",
    "nw_sq"
   ]
  },
  {
   "cell_type": "code",
   "execution_count": 131,
   "metadata": {},
   "outputs": [
    {
     "name": "stdout",
     "output_type": "stream",
     "text": [
      "[4, 9, 16, 25]\n"
     ]
    }
   ],
   "source": [
    "number = [2, 3, 4, 5]\n",
    "\n",
    "squares = []\n",
    "for i in number:\n",
    "    squares.append(i**2)\n",
    "print(squares)"
   ]
  },
  {
   "cell_type": "code",
   "execution_count": 133,
   "metadata": {},
   "outputs": [
    {
     "name": "stdout",
     "output_type": "stream",
     "text": [
      "[4, 9, 16, 25]\n"
     ]
    }
   ],
   "source": [
    "number = [2, 3, 4, 5]\n",
    "\n",
    "def powerOfNumber(num):\n",
    "    return num ** 2\n",
    "squared = list(map(powerOfNumber, number))\n",
    "print(squared)"
   ]
  },
  {
   "cell_type": "code",
   "execution_count": 134,
   "metadata": {},
   "outputs": [
    {
     "name": "stdout",
     "output_type": "stream",
     "text": [
      "[8, 27, 64, 125]\n"
     ]
    }
   ],
   "source": [
    "number = (2, 3, 4, 5)\n",
    "def powOfNum(num):\n",
    "    return num**3\n",
    "squared = list(map(powOfNum, number))\n",
    "print(squared)"
   ]
  },
  {
   "cell_type": "code",
   "execution_count": 136,
   "metadata": {},
   "outputs": [
    {
     "name": "stdout",
     "output_type": "stream",
     "text": [
      "120\n"
     ]
    }
   ],
   "source": [
    "product = 1\n",
    "\n",
    "lst = [2, 3, 4, 5]\n",
    "for num in lst:\n",
    "    product *= num\n",
    "print(product)"
   ]
  },
  {
   "cell_type": "code",
   "execution_count": 138,
   "metadata": {},
   "outputs": [
    {
     "name": "stdout",
     "output_type": "stream",
     "text": [
      "120\n"
     ]
    }
   ],
   "source": [
    "from functools import reduce\n",
    "\n",
    "def multiply(x, y):\n",
    "    return x*y\n",
    "product = reduce(multiply, lst)\n",
    "print(product)"
   ]
  },
  {
   "cell_type": "code",
   "execution_count": 147,
   "metadata": {},
   "outputs": [
    {
     "name": "stdout",
     "output_type": "stream",
     "text": [
      "The product of 10 and 30 is 300 \n"
     ]
    }
   ],
   "source": [
    "def product_num(a,b):\n",
    "    '''\n",
    "    This function returns the product of two numbers\n",
    "    '''\n",
    "    product = a*b\n",
    "    return product\n",
    "num1 = 10\n",
    "num2 = 30\n",
    "print (\"The product of {} and {} is {} \".format(num1, num2, product_num(num1, num2)))\n"
   ]
  },
  {
   "cell_type": "code",
   "execution_count": 152,
   "metadata": {},
   "outputs": [
    {
     "name": "stdout",
     "output_type": "stream",
     "text": [
      "Choice 1: returns addition\n",
      "Choice 2: returns Subtraction\n",
      "Choice 3: returns Division\n",
      "Choice 4: returns Multiplication\n",
      "Enter a choice: 1\n",
      "Enter a number: 4\n",
      "Enter a number: 5\n",
      "The Addition of 4 with 5 is 9 \n"
     ]
    }
   ],
   "source": [
    "def Add(a, b):\n",
    "    '''\n",
    "    This function adds two numbers together\n",
    "    '''\n",
    "    return a + b\n",
    "def Subtract(a,b):\n",
    "    '''\n",
    "    This function removes a number from the other\n",
    "    '''\n",
    "    return a-b\n",
    "def Divide(a,b):\n",
    "    '''\n",
    "    This function divides two numbers \n",
    "    '''\n",
    "    return a/b\n",
    "def multiply(a,b):\n",
    "    '''\n",
    "    This function multiply two numbers together\n",
    "    '''\n",
    "    return a*b\n",
    "\n",
    "\n",
    "print(\"Choice 1: returns addition\")\n",
    "print(\"Choice 2: returns Subtraction\")\n",
    "print(\"Choice 3: returns Division\")\n",
    "print(\"Choice 4: returns Multiplication\")\n",
    "\n",
    "choice = int(input(\"Enter a choice: \"))\n",
    "num1 = int(input(\"First number: \"))\n",
    "num2 = int(input('Second number: '))\n",
    "\n",
    "if choice == 1:\n",
    "    print(\"The Addition of {} with {} is {} \".format(num1, num2, Add(num1, num2)))\n",
    "elif choice == 2:\n",
    "    print(\"The Subtraction of {} from {} is {} \".format(num1, num2, Subtract(num1, num2)))\n",
    "elif choice == 3:\n",
    "    print(\"The Division of {} by {} is {} \".format(num1, num2, Divide(num1, num2)))\n",
    "elif choice == 4:\n",
    "    print(\"The Multiplication of {} and {} is {} \".format(num1, num2, Multiply(num1, num2)))\n",
    "else:\n",
    "    print(\"Choice is invalid\")"
   ]
  },
  {
   "cell_type": "code",
   "execution_count": 159,
   "metadata": {},
   "outputs": [
    {
     "name": "stdout",
     "output_type": "stream",
     "text": [
      "Hello Saki, Are you coming?\n"
     ]
    }
   ],
   "source": [
    "def greet(name, msg = \"how are you doing?\"):\n",
    "    '''\n",
    "    This function returns a message to someone with a message\n",
    "    '''\n",
    "    print(\"Hello {}, {}\".format(name, msg))\n",
    "greet(\"Saki\", \"Are you coming?\")"
   ]
  },
  {
   "cell_type": "code",
   "execution_count": 160,
   "metadata": {},
   "outputs": [
    {
     "name": "stdout",
     "output_type": "stream",
     "text": [
      "Hello Saki, how are you doing?\n"
     ]
    }
   ],
   "source": [
    "greet(\"Saki\")"
   ]
  },
  {
   "cell_type": "code",
   "execution_count": 175,
   "metadata": {},
   "outputs": [
    {
     "name": "stdout",
     "output_type": "stream",
     "text": [
      "Hello Tom, where are you? \n"
     ]
    }
   ],
   "source": [
    "def greet(**kwargs):\n",
    "    '''\n",
    "    This returns a greeting message to a person\n",
    "    '''\n",
    "    print(\"Hello {}, {} \".format(kwargs[\"name\"], kwargs[\"msg\"]))\n",
    "greet(name=\"Tom\", msg=\"where are you?\")"
   ]
  },
  {
   "cell_type": "code",
   "execution_count": 180,
   "metadata": {},
   "outputs": [
    {
     "name": "stdout",
     "output_type": "stream",
     "text": [
      "('Feyishara', 'Feyishaya', 'Muyiwa', 'Mojid')\n",
      "Hello, Feyishara \n",
      "Hello, Feyishaya \n",
      "Hello, Muyiwa \n",
      "Hello, Mojid \n"
     ]
    }
   ],
   "source": [
    "def greet(*names):\n",
    "    '''\n",
    "    Function returns names\n",
    "    '''\n",
    "    print(names)\n",
    "    for name in names:\n",
    "        print(\"Hello, {0} \".format(name))\n",
    "greet(\"Feyishara\", \"Feyishaya\", \"Muyiwa\", \"Mojid\")"
   ]
  },
  {
   "cell_type": "code",
   "execution_count": 182,
   "metadata": {},
   "outputs": [
    {
     "name": "stdout",
     "output_type": "stream",
     "text": [
      "The  factorial of 5 is 120 \n"
     ]
    }
   ],
   "source": [
    "def factorial(num):\n",
    "    '''\n",
    "    This function returns the factorial of number specified\n",
    "    '''\n",
    "    return 1 if num == 1 else (num * factorial(num - 1))\n",
    "num = 5\n",
    "print(\"The  factorial of {} is {} \".format(num, fatcorial(num)))"
   ]
  },
  {
   "cell_type": "code",
   "execution_count": 186,
   "metadata": {},
   "outputs": [
    {
     "name": "stdout",
     "output_type": "stream",
     "text": [
      "fibonacci sequence\n",
      "0\n",
      "1\n",
      "1\n",
      "2\n",
      "3\n",
      "5\n",
      "8\n",
      "13\n",
      "21\n",
      "34\n"
     ]
    }
   ],
   "source": [
    "def fibonacci(num):\n",
    "    '''\n",
    "    This return the function of a fibonacci sequence\n",
    "    '''\n",
    "    return num if num <= 1 else fibonacci(num-1) + fibonacci(num-2)\n",
    "nterms = 10\n",
    "print(\"fibonacci sequence\")\n",
    "for num in range(nterms):\n",
    "    print(fibonacci(num))"
   ]
  },
  {
   "cell_type": "code",
   "execution_count": 189,
   "metadata": {},
   "outputs": [
    {
     "name": "stdout",
     "output_type": "stream",
     "text": [
      "[2, 4]\n"
     ]
    }
   ],
   "source": [
    "lst = [1, 2, 3, 4, 5]\n",
    "even_num = list(filter(lambda x: (x%2 == 0), lst))\n",
    "print(even_num)"
   ]
  },
  {
   "cell_type": "code",
   "execution_count": 194,
   "metadata": {},
   "outputs": [
    {
     "name": "stdout",
     "output_type": "stream",
     "text": [
      "[1, 4, 9, 16, 25]\n"
     ]
    }
   ],
   "source": [
    "lst_ = [1, 2, 3, 4, 5]\n",
    "even_num_ = list(map(lambda x: x ** 2, lst_))\n",
    "print(even_num_)"
   ]
  },
  {
   "cell_type": "code",
   "execution_count": 198,
   "metadata": {},
   "outputs": [
    {
     "name": "stdout",
     "output_type": "stream",
     "text": [
      "120\n"
     ]
    }
   ],
   "source": [
    "from functools import reduce\n",
    "ls = [1, 2, 3, 4, 5]\n",
    "evn_no = reduce(lambda x, y: x*y, ls)\n",
    "print(evn_no)"
   ]
  },
  {
   "cell_type": "code",
   "execution_count": 199,
   "metadata": {},
   "outputs": [
    {
     "data": {
      "text/plain": [
       "datetime.datetime(2020, 12, 14, 12, 3, 0, 571238)"
      ]
     },
     "execution_count": 199,
     "metadata": {},
     "output_type": "execute_result"
    }
   ],
   "source": [
    "import datetime\n",
    "datetime.datetime.now()"
   ]
  },
  {
   "cell_type": "code",
   "execution_count": 201,
   "metadata": {},
   "outputs": [
    {
     "data": {
      "text/plain": [
       "datetime.datetime(2020, 12, 14, 12, 4, 10, 223793)"
      ]
     },
     "execution_count": 201,
     "metadata": {},
     "output_type": "execute_result"
    }
   ],
   "source": [
    "from datetime import datetime\n",
    "datetime.now()"
   ]
  },
  {
   "cell_type": "code",
   "execution_count": 206,
   "metadata": {},
   "outputs": [
    {
     "data": {
      "text/plain": [
       "'C:\\\\Users\\\\USER\\\\PycharmProjects\\\\Untitled Folder'"
      ]
     },
     "execution_count": 206,
     "metadata": {},
     "output_type": "execute_result"
    }
   ],
   "source": [
    "import os\n",
    "os.getcwd()\n",
    "\n",
    "# f = open(\"example.txt\")\n",
    "# f.close()\n",
    "# # f = open(\"example.txt\", \"r\")\n",
    "# # f = open(\"text.txt\", 'w')\n",
    "\n",
    "# try:\n",
    "#     f = open(\"example.txt\")\n",
    "# finally:\n",
    "#     f.close()\n"
   ]
  },
  {
   "cell_type": "code",
   "execution_count": 237,
   "metadata": {},
   "outputs": [
    {
     "data": {
      "image/png": "[encoded data removed]",
      "text/plain": [
       "<Figure size 432x288 with 1 Axes>"
      ]
     },
     "metadata": {
      "needs_background": "light"
     },
     "output_type": "display_data"
    }
   ],
   "source": [
    "import matplotlib.pyplot as plt\n",
    "\n",
    "plt.plot([2, 3, 4, 6, 1])\n",
    "plt.ylabel(\"Number\")\n",
    "plt.xlabel(\"Indices\")\n",
    "plt.title(\"MyTopic\")\n",
    "plt.show()"
   ]
  },
  {
   "cell_type": "code",
   "execution_count": 238,
   "metadata": {},
   "outputs": [
    {
     "data": {
      "image/png": "[encoded data removed]",
      "text/plain": [
       "<Figure size 432x288 with 1 Axes>"
      ]
     },
     "metadata": {
      "needs_background": "light"
     },
     "output_type": "display_data"
    }
   ],
   "source": [
    "plt.plot([1, 2, 3, 4], [1, 4, 9, 16])\n",
    "plt.ylabel(\"Squares\")\n",
    "plt.xlabel(\"Number\")\n",
    "plt.grid()\n",
    "plt.show()"
   ]
  },
  {
   "cell_type": "code",
   "execution_count": 239,
   "metadata": {},
   "outputs": [
    {
     "data": {
      "image/png": "[encoded data removed]",
      "text/plain": [
       "<Figure size 432x288 with 1 Axes>"
      ]
     },
     "metadata": {
      "needs_background": "light"
     },
     "output_type": "display_data"
    }
   ],
   "source": [
    "plt.plot([1, 2, 3, 4], [1, 4, 9, 16], \"ro\")\n",
    "plt.grid()\n",
    "plt.show()\n"
   ]
  },
  {
   "cell_type": "code",
   "execution_count": 249,
   "metadata": {},
   "outputs": [
    {
     "data": {
      "image/png": "[encoded data removed]",
      "text/plain": [
       "<Figure size 432x288 with 1 Axes>"
      ]
     },
     "metadata": {
      "needs_background": "light"
     },
     "output_type": "display_data"
    }
   ],
   "source": [
    "import numpy as np\n",
    "\n",
    "t = np.arange(0., 5.0, 0.2)\n",
    "\n",
    "plt.plot(t, t**2, \"b--\", label = \"^2\")\n",
    "plt.plot(t, t**2.2, \"rs\", label = \"^2.2\")\n",
    "plt.plot(t, t**2.5, \"g^\", label = \"^2.5\")\n",
    "plt.grid()\n",
    "plt.legend()\n",
    "plt.show()"
   ]
  },
  {
   "cell_type": "code",
   "execution_count": 251,
   "metadata": {},
   "outputs": [
    {
     "data": {
      "image/png": "[encoded data removed]",
      "text/plain": [
       "<Figure size 432x288 with 1 Axes>"
      ]
     },
     "metadata": {
      "needs_background": "light"
     },
     "output_type": "display_data"
    }
   ],
   "source": [
    "x = [1, 2, 3, 4]\n",
    "y = [1, 4, 9, 16]\n",
    "plt.plot(x, y, linewidth=5.0)\n",
    "plt.show()"
   ]
  },
  {
   "cell_type": "code",
   "execution_count": 255,
   "metadata": {},
   "outputs": [
    {
     "data": {
      "text/plain": [
       "[None, None]"
      ]
     },
     "execution_count": 255,
     "metadata": {},
     "output_type": "execute_result"
    },
    {
     "data": {
      "image/png": "[encoded data removed]",
      "text/plain": [
       "<Figure size 432x288 with 1 Axes>"
      ]
     },
     "metadata": {
      "needs_background": "light"
     },
     "output_type": "display_data"
    }
   ],
   "source": [
    "x1 = [1, 2, 3, 4]\n",
    "y1 = [1, 4, 9, 16]\n",
    "x2 = [1, 2, 3, 4]\n",
    "y2 = [1, 4, 6, 8]\n",
    "lines = plt.plot(x1, y1, x2, y2)\n",
    "plt.setp(lines[0], color='g', linewidth=2.0)\n",
    "plt.setp(lines[1], \"color\", \"r\", \"linewidth\", \"2.0\")"
   ]
  },
  {
   "cell_type": "code",
   "execution_count": 262,
   "metadata": {},
   "outputs": [
    {
     "data": {
      "image/png": "[encoded data removed]",
      "text/plain": [
       "<Figure size 432x288 with 2 Axes>"
      ]
     },
     "metadata": {
      "needs_background": "light"
     },
     "output_type": "display_data"
    }
   ],
   "source": [
    "def f(t):\n",
    "    return np.exp(-t) * np.cos(2*np.pi*t)\n",
    "t1 = np.arange(0.0, 5.0, 0.1)\n",
    "t2 = np.arange(0.0, 5.0, 0.02)\n",
    "\n",
    "plt.figure(1)\n",
    "plt.subplot(211)\n",
    "plt.grid()\n",
    "plt.plot(t1, f(t1), \"b-\")\n",
    "\n",
    "plt.subplot(212)\n",
    "plt.plot(t2, np.cos(2*np.pi*t2), \"r--\")\n",
    "plt.show()"
   ]
  },
  {
   "cell_type": "code",
   "execution_count": 263,
   "metadata": {},
   "outputs": [
    {
     "name": "stderr",
     "output_type": "stream",
     "text": [
      "C:\\anaconda\\lib\\site-packages\\ipykernel_launcher.py:11: MatplotlibDeprecationWarning: Adding an axes using the same arguments as a previous axes currently reuses the earlier instance.  In a future version, a new instance will always be created and returned.  Meanwhile, this warning can be suppressed, and the future behavior ensured, by passing a unique label to each axes instance.\n",
      "  # This is added back by InteractiveShellApp.init_path()\n"
     ]
    },
    {
     "data": {
      "image/png": "[encoded data removed]",
      "text/plain": [
       "<Figure size 432x288 with 2 Axes>"
      ]
     },
     "metadata": {
      "needs_background": "light"
     },
     "output_type": "display_data"
    },
    {
     "data": {
      "image/png": "[encoded data removed]",
      "text/plain": [
       "<Figure size 432x288 with 1 Axes>"
      ]
     },
     "metadata": {
      "needs_background": "light"
     },
     "output_type": "display_data"
    }
   ],
   "source": [
    "plt.figure(1)\n",
    "plt.subplot(211)\n",
    "plt.plot([1, 2, 3])\n",
    "plt.subplot(212)\n",
    "plt.plot([4, 5, 6])\n",
    "\n",
    "plt.figure(2)\n",
    "plt.plot([4, 5, 6])\n",
    "\n",
    "plt.figure(1)\n",
    "plt.subplot(211)\n",
    "plt.title(\"Entry number: 1, 2, 3\")\n",
    "plt.show()"
   ]
  },
  {
   "cell_type": "code",
   "execution_count": 284,
   "metadata": {},
   "outputs": [],
   "source": [
    "import numpy as np\n",
    "import random\n",
    "\n",
    "l = list(range(100))\n",
    "random.shuffle(l)\n"
   ]
  },
  {
   "cell_type": "code",
   "execution_count": 285,
   "metadata": {},
   "outputs": [
    {
     "name": "stdout",
     "output_type": "stream",
     "text": [
      "Found\n"
     ]
    }
   ],
   "source": [
    "q = 31\n",
    "isFound = False\n",
    "for ele in l:\n",
    "    if ele == 31:\n",
    "        print(\"Found\")\n",
    "        isFound = True\n",
    "        break\n",
    "if isFound == False:\n",
    "    print(\"Not found\")"
   ]
  },
  {
   "cell_type": "code",
   "execution_count": 286,
   "metadata": {},
   "outputs": [
    {
     "name": "stdout",
     "output_type": "stream",
     "text": [
      "10\n",
      "17\n",
      "30\n",
      "0\n",
      "20\n",
      "26\n",
      "19\n",
      "2\n",
      "39\n",
      "28\n",
      "34\n",
      "36\n",
      "33\n",
      "18\n",
      "4\n",
      "38\n",
      "5\n",
      "37\n",
      "25\n",
      "27\n",
      "3\n",
      "40\n",
      "42\n",
      "32\n",
      "7\n",
      "45\n",
      "24\n",
      "22\n",
      "48\n",
      "6\n",
      "29\n",
      "15\n",
      "41\n",
      "46\n",
      "44\n",
      "31\n",
      "9\n",
      "13\n",
      "23\n",
      "12\n",
      "16\n",
      "8\n",
      "43\n",
      "14\n",
      "21\n",
      "11\n",
      "35\n",
      "47\n",
      "1\n",
      "49\n",
      "Number of common element 50\n"
     ]
    }
   ],
   "source": [
    "l1 = list(range(100))\n",
    "l2 = list(range(50))\n",
    "\n",
    "random.shuffle(l1)\n",
    "random.shuffle(l2)\n",
    "\n",
    "cnt = 0\n",
    "\n",
    "for i in l1:\n",
    "    for j in l2:\n",
    "        if i == j:\n",
    "            print(i)\n",
    "            cnt += 1\n",
    "print(\"Number of common element\", cnt)"
   ]
  },
  {
   "cell_type": "code",
   "execution_count": 10,
   "metadata": {},
   "outputs": [],
   "source": [
    "import numpy as np\n",
    "import pylab \n",
    "import scipy.stats as stats"
   ]
  },
  {
   "cell_type": "code",
   "execution_count": 31,
   "metadata": {},
   "outputs": [
    {
     "name": "stdout",
     "output_type": "stream",
     "text": [
      "0 -26.217934154002606\n",
      "1 -22.913826472429502\n",
      "2 -18.37834624094166\n",
      "3 -17.794444190071747\n",
      "4 -16.435948672805058\n",
      "5 -16.02672302083028\n",
      "6 -15.695064935905354\n",
      "7 -13.458055251591908\n",
      "8 -13.246704214527549\n",
      "9 -12.92649868835786\n",
      "10 -12.0589678845042\n",
      "11 -11.754757856137948\n",
      "12 -11.69492348146817\n",
      "13 -11.099397557873296\n",
      "14 -10.22839956563863\n",
      "15 -10.058870111568611\n",
      "16 -9.879387616020818\n",
      "17 -9.170204744655571\n",
      "18 -8.594022884437992\n",
      "19 -8.017942845649202\n",
      "20 -7.880039266962164\n",
      "21 -7.4245528562298\n",
      "22 -7.063945669056965\n",
      "23 -6.814023961995327\n",
      "24 -6.469672592569494\n",
      "25 -6.373551406353872\n",
      "26 -6.371201861493794\n",
      "27 -6.355162536744146\n",
      "28 -6.131632850507894\n",
      "29 -6.028612745414895\n",
      "30 -5.990188744920578\n",
      "31 -5.727972208008647\n",
      "32 -5.614840862700034\n",
      "33 -5.422882048399377\n",
      "34 -4.696079159653005\n",
      "35 -4.264556151381845\n",
      "36 -4.185061183279142\n",
      "37 -3.8738435888137497\n",
      "38 -3.050601999542762\n",
      "39 -2.51396418669\n",
      "40 -2.3851711884496165\n",
      "41 -2.2065696173338774\n",
      "42 -1.8872847351649975\n",
      "43 -1.2724230310212528\n",
      "44 -0.5915163417945521\n",
      "45 -0.17379314829258513\n",
      "46 0.012292474149130272\n",
      "47 0.33331338600499966\n",
      "48 0.6515333060118531\n",
      "49 0.901121338449598\n",
      "50 1.133332724926099\n",
      "51 1.2283337227989282\n",
      "52 1.33464345239805\n",
      "53 1.4889891921197473\n",
      "54 2.0821982444152805\n",
      "55 2.7288110770997616\n",
      "56 2.8047464305353826\n",
      "57 2.8661568048573915\n",
      "58 3.004180320002537\n",
      "59 3.2111437128000766\n",
      "60 3.4569790236860074\n",
      "61 3.613531024077037\n",
      "62 3.6478696677118645\n",
      "63 3.700548952702259\n",
      "64 3.9566959163629316\n",
      "65 4.397685899951927\n",
      "66 4.415765154608494\n",
      "67 4.446892576296656\n",
      "68 4.577026675681266\n",
      "69 4.893849413140901\n",
      "70 5.173846568926423\n",
      "71 5.562207129527463\n",
      "72 5.819256652933802\n",
      "73 6.321952608254122\n",
      "74 6.410817395278289\n",
      "75 6.516767875206176\n",
      "76 6.653619996521704\n",
      "77 6.89931768276962\n",
      "78 7.191104924880955\n",
      "79 7.488882244109757\n",
      "80 7.928242007074502\n",
      "81 8.399498948898025\n",
      "82 8.764886341913343\n",
      "83 9.097820463601709\n",
      "84 9.542330108230766\n",
      "85 10.797997805483286\n",
      "86 11.072457958333224\n",
      "87 12.181780570353602\n",
      "88 12.423589233072816\n",
      "89 12.715101631219056\n",
      "90 12.91433108978088\n",
      "91 12.99959967166779\n",
      "92 13.220768219500691\n",
      "93 13.29593859215294\n",
      "94 14.415932480509346\n",
      "95 18.500683790388383\n",
      "96 18.52691320612102\n",
      "97 19.032880511341073\n",
      "98 20.5425313656117\n",
      "99 23.718623609055598\n",
      "100 24.490088145242566\n"
     ]
    }
   ],
   "source": [
    "std_normal = np.random.normal(loc=0, scale=11, size=100)\n",
    "\n",
    "for i in range(0, 101):\n",
    "    print(i, np.percentile(std_normal, i))"
   ]
  },
  {
   "cell_type": "code",
   "execution_count": 32,
   "metadata": {},
   "outputs": [
    {
     "data": {
      "image/png": "[encoded data removed]",
      "text/plain": [
       "<Figure size 432x288 with 1 Axes>"
      ]
     },
     "metadata": {
      "needs_background": "light"
     },
     "output_type": "display_data"
    }
   ],
   "source": [
    "measurements = np.random.normal(loc=0, scale=1, size=100)\n",
    "\n",
    "stats.probplot(measurements, dist=\"norm\", plot=pylab)\n",
    "pylab.show()"
   ]
  },
  {
   "cell_type": "code",
   "execution_count": 34,
   "metadata": {},
   "outputs": [
    {
     "data": {
      "image/png": "[encoded data removed]",
      "text/plain": [
       "<Figure size 432x288 with 1 Axes>"
      ]
     },
     "metadata": {
      "needs_background": "light"
     },
     "output_type": "display_data"
    }
   ],
   "source": [
    "measurements_ = np.random.uniform(low=-1, high=1, size=100)\n",
    "\n",
    "stats.probplot(measurements_, dist=\"norm\", plot=pylab)\n",
    "pylab.show()"
   ]
  },
  {
   "cell_type": "code",
   "execution_count": 35,
   "metadata": {},
   "outputs": [
    {
     "name": "stdout",
     "output_type": "stream",
     "text": [
      "0.4389218608376517\n"
     ]
    }
   ],
   "source": [
    "import random\n",
    "print(random.random())"
   ]
  },
  {
   "cell_type": "code",
   "execution_count": 39,
   "metadata": {},
   "outputs": [
    {
     "data": {
      "text/plain": [
       "(150, 4)"
      ]
     },
     "execution_count": 39,
     "metadata": {},
     "output_type": "execute_result"
    }
   ],
   "source": [
    "from sklearn import datasets\n",
    "iris = datasets.load_iris()\n",
    "df = iris.data\n",
    "df.shape"
   ]
  },
  {
   "cell_type": "code",
   "execution_count": 41,
   "metadata": {},
   "outputs": [
    {
     "data": {
      "text/plain": [
       "36"
      ]
     },
     "execution_count": 41,
     "metadata": {},
     "output_type": "execute_result"
    }
   ],
   "source": [
    "n = 150\n",
    "m=30\n",
    "p=m/n\n",
    "\n",
    "sampled_data = []\n",
    "for i in range(0, n):\n",
    "    if random.random()<=p:\n",
    "        sampled_data.append(df[i,:])\n",
    "\n",
    "len(sampled_data)"
   ]
  },
  {
   "cell_type": "code",
   "execution_count": 53,
   "metadata": {},
   "outputs": [
    {
     "data": {
      "image/png": "[encoded data removed]",
      "text/plain": [
       "<Figure size 432x288 with 1 Axes>"
      ]
     },
     "metadata": {
      "needs_background": "light"
     },
     "output_type": "display_data"
    },
    {
     "name": "stdout",
     "output_type": "stream",
     "text": [
      "9750.0 percentage interval 161.5 and 161.5\n"
     ]
    }
   ],
   "source": [
    "import numpy\n",
    "from pandas import read_csv\n",
    "from sklearn.utils import resample\n",
    "from sklearn.metrics import accuracy_score\n",
    "from matplotlib import pyplot\n",
    "\n",
    "x = np.array([168, 162, 180, 158, 172, 171, 178, 150, 165, 176])\n",
    "\n",
    "n_iterations = 1000\n",
    "n_size = int(len(x))\n",
    "\n",
    "medians = list()\n",
    "for i in range (n_iterations):\n",
    "    s = resample(x, n_samples=n_size)\n",
    "    m = numpy.median(s)\n",
    "    medians.append(m)\n",
    "    \n",
    "pyplot.hist(medians)\n",
    "pyplot.show()\n",
    "\n",
    "alpha = 0.95\n",
    "p = ((1.0-alpha)/2.0) * 100\n",
    "lower = numpy.percentile(medians, p)\n",
    "\n",
    "alpha = (alpha+((1.0-alpha)/2.0)) * 100\n",
    "upper = numpy.percentile(medians, p)\n",
    "print(\"%.1f percentage interval %.1f and %.1f\" % (alpha*100, lower, upper))"
   ]
  },
  {
   "cell_type": "code",
   "execution_count": 62,
   "metadata": {},
   "outputs": [
    {
     "ename": "ModuleNotFoundError",
     "evalue": "No module named 'norm'",
     "output_type": "error",
     "traceback": [
      "\u001b[1;31m---------------------------------------------------------------------------\u001b[0m",
      "\u001b[1;31mModuleNotFoundError\u001b[0m                       Traceback (most recent call last)",
      "\u001b[1;32m<ipython-input-62-56ff9c6cdcd0>\u001b[0m in \u001b[0;36m<module>\u001b[1;34m\u001b[0m\n\u001b[0;32m      2\u001b[0m \u001b[1;32mimport\u001b[0m \u001b[0mseaborn\u001b[0m \u001b[1;32mas\u001b[0m \u001b[0msns\u001b[0m\u001b[1;33m\u001b[0m\u001b[1;33m\u001b[0m\u001b[0m\n\u001b[0;32m      3\u001b[0m \u001b[1;32mimport\u001b[0m \u001b[0mmatplotlib\u001b[0m\u001b[1;33m.\u001b[0m\u001b[0mpyplot\u001b[0m \u001b[1;32mas\u001b[0m \u001b[0mplt\u001b[0m\u001b[1;33m\u001b[0m\u001b[1;33m\u001b[0m\u001b[0m\n\u001b[1;32m----> 4\u001b[1;33m \u001b[1;32mimport\u001b[0m \u001b[0mscipy\u001b[0m \u001b[1;32mas\u001b[0m \u001b[0mstats\u001b[0m\u001b[1;33m,\u001b[0m \u001b[0mnorm\u001b[0m\u001b[1;33m,\u001b[0m \u001b[0mrvs\u001b[0m\u001b[1;33m\u001b[0m\u001b[1;33m\u001b[0m\u001b[0m\n\u001b[0m\u001b[0;32m      5\u001b[0m \u001b[1;33m\u001b[0m\u001b[0m\n\u001b[0;32m      6\u001b[0m \u001b[0mx\u001b[0m \u001b[1;33m=\u001b[0m \u001b[0mstats\u001b[0m\u001b[1;33m.\u001b[0m\u001b[0mnorm\u001b[0m\u001b[1;33m.\u001b[0m\u001b[0mrvs\u001b[0m\u001b[1;33m(\u001b[0m\u001b[0msize\u001b[0m\u001b[1;33m=\u001b[0m\u001b[1;36m1000\u001b[0m\u001b[1;33m)\u001b[0m\u001b[1;33m;\u001b[0m\u001b[1;33m\u001b[0m\u001b[1;33m\u001b[0m\u001b[0m\n",
      "\u001b[1;31mModuleNotFoundError\u001b[0m: No module named 'norm'"
     ]
    }
   ],
   "source": [
    "import numpy as np\n",
    "import seaborn as sns\n",
    "import matplotlib.pyplot as plt\n",
    "import scipy as stats, nor\n",
    "\n",
    "x = stats.norm.rvs(size=1000);\n",
    "sns.set_size(\"whitegrid\")\n",
    "sns.kdeplot(np.array(x), bw=0.5)\n",
    "plt.show()"
   ]
  },
  {
   "cell_type": "code",
   "execution_count": null,
   "metadata": {},
   "outputs": [],
   "source": []
  },
  {
   "cell_type": "code",
   "execution_count": null,
   "metadata": {},
   "outputs": [],
   "source": []
  }
 ],
 "metadata": {
  "kernelspec": {
   "display_name": "Python 3",
   "language": "python",
   "name": "python3"
  },
  "language_info": {
   "codemirror_mode": {
    "name": "ipython",
    "version": 3
   },
   "file_extension": ".py",
   "mimetype": "text/x-python",
   "name": "python",
   "nbconvert_exporter": "python",
   "pygments_lexer": "ipython3",
   "version": "3.7.6"
  }
 },
 "nbformat": 4,
 "nbformat_minor": 4
}
