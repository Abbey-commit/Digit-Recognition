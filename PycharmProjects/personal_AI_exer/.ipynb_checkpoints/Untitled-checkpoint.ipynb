{
 "cells": [
  {
   "cell_type": "code",
   "execution_count": 13,
   "metadata": {},
   "outputs": [
    {
     "name": "stdout",
     "output_type": "stream",
     "text": [
      "The value of a 23 and b 23\n"
     ]
    }
   ],
   "source": [
    "a = 12; b = 23 #Multiply a single line\n",
    "\n",
    "print(\"The value of a {1} and b {1}\".format(a, b))"
   ]
  },
  {
   "cell_type": "code",
   "execution_count": 14,
   "metadata": {},
   "outputs": [
    {
     "name": "stdout",
     "output_type": "stream",
     "text": [
      "Hello Tayo! How are you\n"
     ]
    }
   ],
   "source": [
    "print(\"Hello {name} {greeting}\".format(name = \"Tayo!\", greeting = \"How are you\"))"
   ]
  },
  {
   "cell_type": "code",
   "execution_count": 17,
   "metadata": {},
   "outputs": [
    {
     "name": "stdout",
     "output_type": "stream",
     "text": [
      "The story of Bill Manfred and George\n"
     ]
    }
   ],
   "source": [
    "print(\"The story of {0} {1} and {other}\".format(\"Bill\", \"Manfred\", other=\"George\"))"
   ]
  },
  {
   "cell_type": "code",
   "execution_count": 18,
   "metadata": {},
   "outputs": [
    {
     "name": "stdout",
     "output_type": "stream",
     "text": [
      "Enter a number, 60\n"
     ]
    },
    {
     "data": {
      "text/plain": [
       "'60'"
      ]
     },
     "execution_count": 18,
     "metadata": {},
     "output_type": "execute_result"
    }
   ],
   "source": [
    "num  = input(\"Enter a number, \")\n",
    "num"
   ]
  },
  {
   "cell_type": "code",
   "execution_count": 19,
   "metadata": {},
   "outputs": [
    {
     "name": "stdout",
     "output_type": "stream",
     "text": [
      "This will always print\n"
     ]
    }
   ],
   "source": [
    "num = 10\n",
    "\n",
    "#This \n",
    "if num < 10:\n",
    "    print(\"The is positive\")\n",
    "print(\"This will always print\")"
   ]
  },
  {
   "cell_type": "code",
   "execution_count": 20,
   "metadata": {},
   "outputs": [
    {
     "name": "stdout",
     "output_type": "stream",
     "text": [
      "Largest among the element is 60\n"
     ]
    }
   ],
   "source": [
    "num1 = 14\n",
    "num2 = 30\n",
    "num3 = 60\n",
    "\n",
    "if (num1 >= num2) and (num1 >= num2):\n",
    "    largest = num1\n",
    "elif (num2 >= num1) and (num2 >= num3):\n",
    "    largest = num2\n",
    "else:\n",
    "    largest = num3\n",
    "    print(\"Largest among the element is {}\".format(largest))"
   ]
  },
  {
   "cell_type": "code",
   "execution_count": 21,
   "metadata": {},
   "outputs": [
    {
     "name": "stdout",
     "output_type": "stream",
     "text": [
      "Negative\n"
     ]
    }
   ],
   "source": [
    "num = -2\n",
    "\n",
    "if (num >= 0):\n",
    "    if (num == 10.5):\n",
    "        print(\"equal\")\n",
    "    else:\n",
    "        print(\"Positive\")\n",
    "else:\n",
    "    print(\"Negative\")\n",
    "    \n",
    "    "
   ]
  },
  {
   "cell_type": "code",
   "execution_count": 24,
   "metadata": {},
   "outputs": [
    {
     "name": "stdout",
     "output_type": "stream",
     "text": [
      "The value of product is 12000000, and index 5 \n"
     ]
    }
   ],
   "source": [
    "lst = [10, 20 ,30 ,40, 50]\n",
    "\n",
    "product = 1\n",
    "index = 0\n",
    "\n",
    "while index < len(lst):\n",
    "    product *= lst[index]\n",
    "    index += 1\n",
    "print(\"The value of product is {}, and index {} \".format(product, index))"
   ]
  },
  {
   "cell_type": "code",
   "execution_count": 25,
   "metadata": {},
   "outputs": [
    {
     "name": "stdout",
     "output_type": "stream",
     "text": [
      "Enter a number: 45\n"
     ]
    },
    {
     "ename": "IndexError",
     "evalue": "tuple index out of range",
     "output_type": "error",
     "traceback": [
      "\u001b[1;31m---------------------------------------------------------------------------\u001b[0m",
      "\u001b[1;31mIndexError\u001b[0m                                Traceback (most recent call last)",
      "\u001b[1;32m<ipython-input-25-d390bd2fb70d>\u001b[0m in \u001b[0;36m<module>\u001b[1;34m\u001b[0m\n\u001b[0;32m     13\u001b[0m     \u001b[0mprint\u001b[0m\u001b[1;33m(\u001b[0m\u001b[1;34m\"{} Is not a prime number {}\"\u001b[0m\u001b[1;33m.\u001b[0m\u001b[0mformat\u001b[0m\u001b[1;33m(\u001b[0m\u001b[0mnum\u001b[0m\u001b[1;33m)\u001b[0m\u001b[1;33m)\u001b[0m\u001b[1;33m\u001b[0m\u001b[1;33m\u001b[0m\u001b[0m\n\u001b[0;32m     14\u001b[0m \u001b[1;32melse\u001b[0m\u001b[1;33m:\u001b[0m\u001b[1;33m\u001b[0m\u001b[1;33m\u001b[0m\u001b[0m\n\u001b[1;32m---> 15\u001b[1;33m     \u001b[0mprint\u001b[0m\u001b[1;33m(\u001b[0m\u001b[1;34m\"{} Is a prime number {}\"\u001b[0m\u001b[1;33m.\u001b[0m\u001b[0mformat\u001b[0m\u001b[1;33m(\u001b[0m\u001b[0mnum\u001b[0m\u001b[1;33m)\u001b[0m\u001b[1;33m)\u001b[0m\u001b[1;33m\u001b[0m\u001b[1;33m\u001b[0m\u001b[0m\n\u001b[0m",
      "\u001b[1;31mIndexError\u001b[0m: tuple index out of range"
     ]
    }
   ],
   "source": [
    "num = int(input(\"Enter a number: \"))\n",
    "\n",
    "isDivisible = False;\n",
    "\n",
    "i = 2;\n",
    "while i < num:\n",
    "    if num % 2 == 0:\n",
    "        isDivisible = True;\n",
    "        print(\"{} is divisible by {}\".format(num, i) )\n",
    "    i += 1;\n",
    "    \n",
    "if isDivisible:\n",
    "    print(\"{} Is not a prime number {}\".format(num))\n",
    "else:\n",
    "    print(\"{} Is a prime number {}\".format(num))"
   ]
  },
  {
   "cell_type": "code",
   "execution_count": 26,
   "metadata": {},
   "outputs": [
    {
     "name": "stdout",
     "output_type": "stream",
     "text": [
      "Product is: 10368 \n"
     ]
    }
   ],
   "source": [
    "ls = [2, 4, 3, 8, 9, 6]\n",
    "\n",
    "product = 1\n",
    "for ele in ls:\n",
    "    product *= ele\n",
    "print(\"Product is: {} \".format(product))"
   ]
  },
  {
   "cell_type": "code",
   "execution_count": 27,
   "metadata": {},
   "outputs": [
    {
     "name": "stdout",
     "output_type": "stream",
     "text": [
      "Shayo\n",
      "Dayo\n",
      "Tolani\n",
      "Muraino\n",
      "Feyishara\n"
     ]
    }
   ],
   "source": [
    "lst = [\"Shayo\", \"Dayo\", \"Tolani\", \"Muraino\", \"Feyishara\"]\n",
    "\n",
    "# for index in range(len(lst)):\n",
    "#     print(lst[index])\n",
    "for ele in lst:\n",
    "    print(ele)"
   ]
  },
  {
   "cell_type": "code",
   "execution_count": 28,
   "metadata": {},
   "outputs": [
    {
     "name": "stdout",
     "output_type": "stream",
     "text": [
      "Number is divisible by 2 3\n",
      "Number is divisible by 2 5\n",
      "Number is divisible by 2 7\n",
      "els block\n"
     ]
    }
   ],
   "source": [
    "number = [2, 3, 4, 5, 6, 7,]\n",
    "\n",
    "for num in number:\n",
    "    if num % 2 == 0:\n",
    "        continue\n",
    "    print(\"Number is divisible by 2 {}\".format(num))\n",
    "else:\n",
    "    print(\"els block\")\n",
    "    "
   ]
  },
  {
   "cell_type": "code",
   "execution_count": 30,
   "metadata": {},
   "outputs": [
    {
     "name": "stdout",
     "output_type": "stream",
     "text": [
      "Enter a number: 7\n",
      "7 is a prime number \n"
     ]
    }
   ],
   "source": [
    "num = int(input(\"Enter a number: \"))\n",
    "\n",
    "isDivisible = False\n",
    "i = 2\n",
    "\n",
    "while num > i:\n",
    "    if num % 2 == 0:\n",
    "        isDivible = True\n",
    "        print(\"{} is divible by {}\".format(num, i))\n",
    "        break\n",
    "    i += 1\n",
    "if isDivisible:\n",
    "    print(\"{} is not a prime number \".format(num))\n",
    "else:\n",
    "    print(\"{} is a prime number \".format(num))"
   ]
  },
  {
   "cell_type": "code",
   "execution_count": 31,
   "metadata": {},
   "outputs": [
    {
     "name": "stdout",
     "output_type": "stream",
     "text": [
      "[0, 1, 4, 9, 16, 25, 36, 49, 64, 81]\n"
     ]
    }
   ],
   "source": [
    "squares = []\n",
    "\n",
    "for i in range(10):\n",
    "    squares.append(i ** 2) \n",
    "print(squares)"
   ]
  },
  {
   "cell_type": "code",
   "execution_count": 32,
   "metadata": {},
   "outputs": [
    {
     "name": "stdout",
     "output_type": "stream",
     "text": [
      "[0, 1, 4, 9, 16, 25, 36, 49, 64, 81]\n"
     ]
    }
   ],
   "source": [
    "squares = [i**2 for i in range(10)]\n",
    "print(squares)"
   ]
  },
  {
   "cell_type": "code",
   "execution_count": 35,
   "metadata": {},
   "outputs": [
    {
     "name": "stdout",
     "output_type": "stream",
     "text": [
      "[-40, -20, 40, 60, 80]\n",
      "[-20, -10]\n",
      "[(0, 0), (1, 1), (2, 4), (3, 9), (4, 16), (5, 25), (6, 36), (7, 49), (8, 64), (9, 81)]\n"
     ]
    }
   ],
   "source": [
    "lst = [-20, -10, 20, 30, 40]\n",
    "\n",
    "lst_ = [i*2 for i in lst]\n",
    "print(lst_)\n",
    "\n",
    "new_lst = [i for i in lst if i <= 0]\n",
    "print(new_lst)\n",
    "\n",
    "new_lst_ = [(i, i**2) for i in range(10)]\n",
    "print(new_lst_)"
   ]
  },
  {
   "cell_type": "code",
   "execution_count": 44,
   "metadata": {},
   "outputs": [
    {
     "name": "stdout",
     "output_type": "stream",
     "text": [
      "[[1], [2], [3], [4]]\n"
     ]
    }
   ],
   "source": [
    "matrix = [\n",
    "    [1, 2, 3, 4,\n",
    "    2, 9, 1, 6]\n",
    "    \n",
    "]\n",
    "transposed = [[row[i] for row in matrix] for i in range(4)]\n",
    "print(transposed)"
   ]
  },
  {
   "cell_type": "code",
   "execution_count": 46,
   "metadata": {},
   "outputs": [
    {
     "name": "stdout",
     "output_type": "stream",
     "text": [
      "None\n"
     ]
    }
   ],
   "source": [
    "dict = {\"cohort1\": 45, \"cohort\": 30, \"cohort3\": 50, \"cohort\":40}\n",
    "print(dict.get(\"cohort2\"))"
   ]
  },
  {
   "cell_type": "code",
   "execution_count": 47,
   "metadata": {},
   "outputs": [
    {
     "name": "stdout",
     "output_type": "stream",
     "text": [
      "40\n"
     ]
    }
   ],
   "source": [
    "print(dict.get(\"cohort\"))"
   ]
  },
  {
   "cell_type": "code",
   "execution_count": 119,
   "metadata": {},
   "outputs": [
    {
     "data": {
      "text/plain": [
       "4"
      ]
     },
     "execution_count": 119,
     "metadata": {},
     "output_type": "execute_result"
    }
   ],
   "source": [
    "squares = {2: 4, 3: 9, 4: 16, 5: 25}\n",
    "squares[2]"
   ]
  },
  {
   "cell_type": "code",
   "execution_count": 120,
   "metadata": {},
   "outputs": [
    {
     "data": {
      "text/plain": [
       "16"
      ]
     },
     "execution_count": 120,
     "metadata": {},
     "output_type": "execute_result"
    }
   ],
   "source": [
    "squares[4]\n"
   ]
  },
  {
   "cell_type": "code",
   "execution_count": 121,
   "metadata": {},
   "outputs": [
    {
     "name": "stdout",
     "output_type": "stream",
     "text": [
      "{2: 4, 4: 16, 5: 25}\n"
     ]
    }
   ],
   "source": [
    "del squares[3]\n",
    "print(squares)"
   ]
  },
  {
   "cell_type": "code",
   "execution_count": 122,
   "metadata": {},
   "outputs": [
    {
     "data": {
      "text/plain": [
       "dict_items([(2, 4), (4, 16), (5, 25)])"
      ]
     },
     "execution_count": 122,
     "metadata": {},
     "output_type": "execute_result"
    }
   ],
   "source": [
    "squares.items()"
   ]
  },
  {
   "cell_type": "code",
   "execution_count": 123,
   "metadata": {},
   "outputs": [
    {
     "data": {
      "text/plain": [
       "{2: 2, 4: 4}"
      ]
     },
     "execution_count": 123,
     "metadata": {},
     "output_type": "execute_result"
    }
   ],
   "source": [
    "new_squares = {k: k for k, v in squares.items() if k < 5}\n",
    "new_squares"
   ]
  },
  {
   "cell_type": "code",
   "execution_count": 126,
   "metadata": {},
   "outputs": [
    {
     "data": {
      "text/plain": [
       "{2: 16, 4: 256, 5: 625}"
      ]
     },
     "execution_count": 126,
     "metadata": {},
     "output_type": "execute_result"
    }
   ],
   "source": [
    "nw_sq = {k: v ** 2 for k, v in squares.items()}\n",
    "nw_sq"
   ]
  },
  {
   "cell_type": "code",
   "execution_count": 131,
   "metadata": {},
   "outputs": [
    {
     "name": "stdout",
     "output_type": "stream",
     "text": [
      "[4, 9, 16, 25]\n"
     ]
    }
   ],
   "source": [
    "number = [2, 3, 4, 5]\n",
    "\n",
    "squares = []\n",
    "for i in number:\n",
    "    squares.append(i**2)\n",
    "print(squares)"
   ]
  },
  {
   "cell_type": "code",
   "execution_count": 133,
   "metadata": {},
   "outputs": [
    {
     "name": "stdout",
     "output_type": "stream",
     "text": [
      "[4, 9, 16, 25]\n"
     ]
    }
   ],
   "source": [
    "number = [2, 3, 4, 5]\n",
    "\n",
    "def powerOfNumber(num):\n",
    "    return num ** 2\n",
    "squared = list(map(powerOfNumber, number))\n",
    "print(squared)"
   ]
  },
  {
   "cell_type": "code",
   "execution_count": 134,
   "metadata": {},
   "outputs": [
    {
     "name": "stdout",
     "output_type": "stream",
     "text": [
      "[8, 27, 64, 125]\n"
     ]
    }
   ],
   "source": [
    "number = (2, 3, 4, 5)\n",
    "def powOfNum(num):\n",
    "    return num**3\n",
    "squared = list(map(powOfNum, number))\n",
    "print(squared)"
   ]
  },
  {
   "cell_type": "code",
   "execution_count": 136,
   "metadata": {},
   "outputs": [
    {
     "name": "stdout",
     "output_type": "stream",
     "text": [
      "120\n"
     ]
    }
   ],
   "source": [
    "product = 1\n",
    "\n",
    "lst = [2, 3, 4, 5]\n",
    "for num in lst:\n",
    "    product *= num\n",
    "print(product)"
   ]
  },
  {
   "cell_type": "code",
   "execution_count": 138,
   "metadata": {},
   "outputs": [
    {
     "name": "stdout",
     "output_type": "stream",
     "text": [
      "120\n"
     ]
    }
   ],
   "source": [
    "from functools import reduce\n",
    "\n",
    "def multiply(x, y):\n",
    "    return x*y\n",
    "product = reduce(multiply, lst)\n",
    "print(product)"
   ]
  },
  {
   "cell_type": "code",
   "execution_count": 147,
   "metadata": {},
   "outputs": [
    {
     "name": "stdout",
     "output_type": "stream",
     "text": [
      "The product of 10 and 30 is 300 \n"
     ]
    }
   ],
   "source": [
    "def product_num(a,b):\n",
    "    '''\n",
    "    This function returns the product of two numbers\n",
    "    '''\n",
    "    product = a*b\n",
    "    return product\n",
    "num1 = 10\n",
    "num2 = 30\n",
    "print (\"The product of {} and {} is {} \".format(num1, num2, product_num(num1, num2)))\n"
   ]
  },
  {
   "cell_type": "code",
   "execution_count": 152,
   "metadata": {},
   "outputs": [
    {
     "name": "stdout",
     "output_type": "stream",
     "text": [
      "Choice 1: returns addition\n",
      "Choice 2: returns Subtraction\n",
      "Choice 3: returns Division\n",
      "Choice 4: returns Multiplication\n",
      "Enter a choice: 1\n",
      "Enter a number: 4\n",
      "Enter a number: 5\n",
      "The Addition of 4 with 5 is 9 \n"
     ]
    }
   ],
   "source": [
    "def Add(a, b):\n",
    "    '''\n",
    "    This function adds two numbers together\n",
    "    '''\n",
    "    return a + b\n",
    "def Subtract(a,b):\n",
    "    '''\n",
    "    This function removes a number from the other\n",
    "    '''\n",
    "    return a-b\n",
    "def Divide(a,b):\n",
    "    '''\n",
    "    This function divides two numbers \n",
    "    '''\n",
    "    return a/b\n",
    "def multiply(a,b):\n",
    "    '''\n",
    "    This function multiply two numbers together\n",
    "    '''\n",
    "    return a*b\n",
    "\n",
    "\n",
    "print(\"Choice 1: returns addition\")\n",
    "print(\"Choice 2: returns Subtraction\")\n",
    "print(\"Choice 3: returns Division\")\n",
    "print(\"Choice 4: returns Multiplication\")\n",
    "\n",
    "choice = int(input(\"Enter a choice: \"))\n",
    "num1 = int(input(\"First number: \"))\n",
    "num2 = int(input('Second number: '))\n",
    "\n",
    "if choice == 1:\n",
    "    print(\"The Addition of {} with {} is {} \".format(num1, num2, Add(num1, num2)))\n",
    "elif choice == 2:\n",
    "    print(\"The Subtraction of {} from {} is {} \".format(num1, num2, Subtract(num1, num2)))\n",
    "elif choice == 3:\n",
    "    print(\"The Division of {} by {} is {} \".format(num1, num2, Divide(num1, num2)))\n",
    "elif choice == 4:\n",
    "    print(\"The Multiplication of {} and {} is {} \".format(num1, num2, Multiply(num1, num2)))\n",
    "else:\n",
    "    print(\"Choice is invalid\")"
   ]
  },
  {
   "cell_type": "code",
   "execution_count": 159,
   "metadata": {},
   "outputs": [
    {
     "name": "stdout",
     "output_type": "stream",
     "text": [
      "Hello Saki, Are you coming?\n"
     ]
    }
   ],
   "source": [
    "def greet(name, msg = \"how are you doing?\"):\n",
    "    '''\n",
    "    This function returns a message to someone with a message\n",
    "    '''\n",
    "    print(\"Hello {}, {}\".format(name, msg))\n",
    "greet(\"Saki\", \"Are you coming?\")"
   ]
  },
  {
   "cell_type": "code",
   "execution_count": 160,
   "metadata": {},
   "outputs": [
    {
     "name": "stdout",
     "output_type": "stream",
     "text": [
      "Hello Saki, how are you doing?\n"
     ]
    }
   ],
   "source": [
    "greet(\"Saki\")"
   ]
  },
  {
   "cell_type": "code",
   "execution_count": 175,
   "metadata": {},
   "outputs": [
    {
     "name": "stdout",
     "output_type": "stream",
     "text": [
      "Hello Tom, where are you? \n"
     ]
    }
   ],
   "source": [
    "def greet(**kwargs):\n",
    "    '''\n",
    "    This returns a greeting message to a person\n",
    "    '''\n",
    "    print(\"Hello {}, {} \".format(kwargs[\"name\"], kwargs[\"msg\"]))\n",
    "greet(name=\"Tom\", msg=\"where are you?\")"
   ]
  },
  {
   "cell_type": "code",
   "execution_count": 180,
   "metadata": {},
   "outputs": [
    {
     "name": "stdout",
     "output_type": "stream",
     "text": [
      "('Feyishara', 'Feyishaya', 'Muyiwa', 'Mojid')\n",
      "Hello, Feyishara \n",
      "Hello, Feyishaya \n",
      "Hello, Muyiwa \n",
      "Hello, Mojid \n"
     ]
    }
   ],
   "source": [
    "def greet(*names):\n",
    "    '''\n",
    "    Function returns names\n",
    "    '''\n",
    "    print(names)\n",
    "    for name in names:\n",
    "        print(\"Hello, {0} \".format(name))\n",
    "greet(\"Feyishara\", \"Feyishaya\", \"Muyiwa\", \"Mojid\")"
   ]
  },
  {
   "cell_type": "code",
   "execution_count": 182,
   "metadata": {},
   "outputs": [
    {
     "name": "stdout",
     "output_type": "stream",
     "text": [
      "The  factorial of 5 is 120 \n"
     ]
    }
   ],
   "source": [
    "def factorial(num):\n",
    "    '''\n",
    "    This function returns the factorial of number specified\n",
    "    '''\n",
    "    return 1 if num == 1 else (num * factorial(num - 1))\n",
    "num = 5\n",
    "print(\"The  factorial of {} is {} \".format(num, fatcorial(num)))"
   ]
  },
  {
   "cell_type": "code",
   "execution_count": 186,
   "metadata": {},
   "outputs": [
    {
     "name": "stdout",
     "output_type": "stream",
     "text": [
      "fibonacci sequence\n",
      "0\n",
      "1\n",
      "1\n",
      "2\n",
      "3\n",
      "5\n",
      "8\n",
      "13\n",
      "21\n",
      "34\n"
     ]
    }
   ],
   "source": [
    "def fibonacci(num):\n",
    "    '''\n",
    "    This return the function of a fibonacci sequence\n",
    "    '''\n",
    "    return num if num <= 1 else fibonacci(num-1) + fibonacci(num-2)\n",
    "nterms = 10\n",
    "print(\"fibonacci sequence\")\n",
    "for num in range(nterms):\n",
    "    print(fibonacci(num))"
   ]
  },
  {
   "cell_type": "code",
   "execution_count": 189,
   "metadata": {},
   "outputs": [
    {
     "name": "stdout",
     "output_type": "stream",
     "text": [
      "[2, 4]\n"
     ]
    }
   ],
   "source": [
    "lst = [1, 2, 3, 4, 5]\n",
    "even_num = list(filter(lambda x: (x%2 == 0), lst))\n",
    "print(even_num)"
   ]
  },
  {
   "cell_type": "code",
   "execution_count": 194,
   "metadata": {},
   "outputs": [
    {
     "name": "stdout",
     "output_type": "stream",
     "text": [
      "[1, 4, 9, 16, 25]\n"
     ]
    }
   ],
   "source": [
    "lst_ = [1, 2, 3, 4, 5]\n",
    "even_num_ = list(map(lambda x: x ** 2, lst_))\n",
    "print(even_num_)"
   ]
  },
  {
   "cell_type": "code",
   "execution_count": 198,
   "metadata": {},
   "outputs": [
    {
     "name": "stdout",
     "output_type": "stream",
     "text": [
      "120\n"
     ]
    }
   ],
   "source": [
    "from functools import reduce\n",
    "ls = [1, 2, 3, 4, 5]\n",
    "evn_no = reduce(lambda x, y: x*y, ls)\n",
    "print(evn_no)"
   ]
  },
  {
   "cell_type": "code",
   "execution_count": 199,
   "metadata": {},
   "outputs": [
    {
     "data": {
      "text/plain": [
       "datetime.datetime(2020, 12, 14, 12, 3, 0, 571238)"
      ]
     },
     "execution_count": 199,
     "metadata": {},
     "output_type": "execute_result"
    }
   ],
   "source": [
    "import datetime\n",
    "datetime.datetime.now()"
   ]
  },
  {
   "cell_type": "code",
   "execution_count": 201,
   "metadata": {},
   "outputs": [
    {
     "data": {
      "text/plain": [
       "datetime.datetime(2020, 12, 14, 12, 4, 10, 223793)"
      ]
     },
     "execution_count": 201,
     "metadata": {},
     "output_type": "execute_result"
    }
   ],
   "source": [
    "from datetime import datetime\n",
    "datetime.now()"
   ]
  },
  {
   "cell_type": "code",
   "execution_count": 206,
   "metadata": {},
   "outputs": [
    {
     "data": {
      "text/plain": [
       "'C:\\\\Users\\\\USER\\\\PycharmProjects\\\\Untitled Folder'"
      ]
     },
     "execution_count": 206,
     "metadata": {},
     "output_type": "execute_result"
    }
   ],
   "source": [
    "import os\n",
    "os.getcwd()\n",
    "\n",
    "# f = open(\"example.txt\")\n",
    "# f.close()\n",
    "# # f = open(\"example.txt\", \"r\")\n",
    "# # f = open(\"text.txt\", 'w')\n",
    "\n",
    "# try:\n",
    "#     f = open(\"example.txt\")\n",
    "# finally:\n",
    "#     f.close()\n"
   ]
  },
  {
   "cell_type": "code",
   "execution_count": null,
   "metadata": {},
   "outputs": [],
   "source": [
    "import matplotlib as plt\n",
    "\n",
    "plt.[2, 3, 4, 6]"
   ]
  }
 ],
 "metadata": {
  "kernelspec": {
   "display_name": "Python 3",
   "language": "python",
   "name": "python3"
  },
  "language_info": {
   "codemirror_mode": {
    "name": "ipython",
    "version": 3
   },
   "file_extension": ".py",
   "mimetype": "text/x-python",
   "name": "python",
   "nbconvert_exporter": "python",
   "pygments_lexer": "ipython3",
   "version": "3.7.6"
  }
 },
 "nbformat": 4,
 "nbformat_minor": 4
}
