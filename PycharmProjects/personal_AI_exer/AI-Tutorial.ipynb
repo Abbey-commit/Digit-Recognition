{
 "cells": [
  {
   "cell_type": "code",
   "execution_count": 1,
   "metadata": {},
   "outputs": [
    {
     "name": "stdout",
     "output_type": "stream",
     "text": [
      "The value of a 23 and b 23\n"
     ]
    }
   ],
   "source": [
    "a = 12; b = 23 #Multiply a single line\n",
    "\n",
    "print(\"The value of a {1} and b {1}\".format(a, b))"
   ]
  },
  {
   "cell_type": "code",
   "execution_count": 2,
   "metadata": {},
   "outputs": [
    {
     "name": "stdout",
     "output_type": "stream",
     "text": [
      "Hello Tayo! How are you\n"
     ]
    }
   ],
   "source": [
    "print(\"Hello {name} {greeting}\".format(name = \"Tayo!\", greeting = \"How are you\"))"
   ]
  },
  {
   "cell_type": "code",
   "execution_count": 3,
   "metadata": {},
   "outputs": [
    {
     "name": "stdout",
     "output_type": "stream",
     "text": [
      "The story of Bill Manfred and George\n"
     ]
    }
   ],
   "source": [
    "print(\"The story of {0} {1} and {other}\".format(\"Bill\", \"Manfred\", other=\"George\"))"
   ]
  },
  {
   "cell_type": "code",
   "execution_count": 4,
   "metadata": {},
   "outputs": [
    {
     "name": "stdout",
     "output_type": "stream",
     "text": [
      "Enter a number, 35\n"
     ]
    },
    {
     "data": {
      "text/plain": [
       "'35'"
      ]
     },
     "execution_count": 4,
     "metadata": {},
     "output_type": "execute_result"
    }
   ],
   "source": [
    "num  = input(\"Enter a number, \")\n",
    "num"
   ]
  },
  {
   "cell_type": "code",
   "execution_count": 5,
   "metadata": {},
   "outputs": [
    {
     "name": "stdout",
     "output_type": "stream",
     "text": [
      "This will always print\n"
     ]
    }
   ],
   "source": [
    "num = 10\n",
    "\n",
    "#This \n",
    "if num < 10:\n",
    "    print(\"The is positive\")\n",
    "print(\"This will always print\")"
   ]
  },
  {
   "cell_type": "code",
   "execution_count": 6,
   "metadata": {},
   "outputs": [
    {
     "name": "stdout",
     "output_type": "stream",
     "text": [
      "Largest among the element is 60\n"
     ]
    }
   ],
   "source": [
    "num1 = 14\n",
    "num2 = 30\n",
    "num3 = 60\n",
    "\n",
    "if (num1 >= num2) and (num1 >= num2):\n",
    "    largest = num1\n",
    "elif (num2 >= num1) and (num2 >= num3):\n",
    "    largest = num2\n",
    "else:\n",
    "    largest = num3\n",
    "    print(\"Largest among the element is {}\".format(largest))"
   ]
  },
  {
   "cell_type": "code",
   "execution_count": 7,
   "metadata": {},
   "outputs": [
    {
     "name": "stdout",
     "output_type": "stream",
     "text": [
      "Negative\n"
     ]
    }
   ],
   "source": [
    "num = -2\n",
    "\n",
    "if (num >= 0):\n",
    "    if (num == 10.5):\n",
    "        print(\"equal\")\n",
    "    else:\n",
    "        print(\"Positive\")\n",
    "else:\n",
    "    print(\"Negative\")\n",
    "    \n",
    "    "
   ]
  },
  {
   "cell_type": "code",
   "execution_count": 8,
   "metadata": {},
   "outputs": [
    {
     "name": "stdout",
     "output_type": "stream",
     "text": [
      "The value of product is 12000000, and index 5 \n"
     ]
    }
   ],
   "source": [
    "lst = [10, 20 ,30 ,40, 50]\n",
    "\n",
    "product = 1\n",
    "index = 0\n",
    "\n",
    "while index < len(lst):\n",
    "    product *= lst[index]\n",
    "    index += 1\n",
    "print(\"The value of product is {}, and index {} \".format(product, index))"
   ]
  },
  {
   "cell_type": "code",
   "execution_count": 9,
   "metadata": {},
   "outputs": [
    {
     "name": "stdout",
     "output_type": "stream",
     "text": [
      "Enter a number: 17\n"
     ]
    },
    {
     "ename": "IndexError",
     "evalue": "tuple index out of range",
     "output_type": "error",
     "traceback": [
      "\u001b[1;31m---------------------------------------------------------------------------\u001b[0m",
      "\u001b[1;31mIndexError\u001b[0m                                Traceback (most recent call last)",
      "\u001b[1;32m<ipython-input-9-d390bd2fb70d>\u001b[0m in \u001b[0;36m<module>\u001b[1;34m\u001b[0m\n\u001b[0;32m     13\u001b[0m     \u001b[0mprint\u001b[0m\u001b[1;33m(\u001b[0m\u001b[1;34m\"{} Is not a prime number {}\"\u001b[0m\u001b[1;33m.\u001b[0m\u001b[0mformat\u001b[0m\u001b[1;33m(\u001b[0m\u001b[0mnum\u001b[0m\u001b[1;33m)\u001b[0m\u001b[1;33m)\u001b[0m\u001b[1;33m\u001b[0m\u001b[1;33m\u001b[0m\u001b[0m\n\u001b[0;32m     14\u001b[0m \u001b[1;32melse\u001b[0m\u001b[1;33m:\u001b[0m\u001b[1;33m\u001b[0m\u001b[1;33m\u001b[0m\u001b[0m\n\u001b[1;32m---> 15\u001b[1;33m     \u001b[0mprint\u001b[0m\u001b[1;33m(\u001b[0m\u001b[1;34m\"{} Is a prime number {}\"\u001b[0m\u001b[1;33m.\u001b[0m\u001b[0mformat\u001b[0m\u001b[1;33m(\u001b[0m\u001b[0mnum\u001b[0m\u001b[1;33m)\u001b[0m\u001b[1;33m)\u001b[0m\u001b[1;33m\u001b[0m\u001b[1;33m\u001b[0m\u001b[0m\n\u001b[0m",
      "\u001b[1;31mIndexError\u001b[0m: tuple index out of range"
     ]
    }
   ],
   "source": [
    "num = int(input(\"Enter a number: \"))\n",
    "\n",
    "isDivisible = False;\n",
    "\n",
    "i = 2;\n",
    "while i < num:\n",
    "    if num % 2 == 0:\n",
    "        isDivisible = True;\n",
    "        print(\"{} is divisible by {}\".format(num, i) )\n",
    "    i += 1;\n",
    "    \n",
    "if isDivisible:\n",
    "    print(\"{} Is not a prime number {}\".format(num))\n",
    "else:\n",
    "    print(\"{} Is a prime number {}\".format(num))"
   ]
  },
  {
   "cell_type": "code",
   "execution_count": null,
   "metadata": {},
   "outputs": [],
   "source": [
    "ls = [2, 4, 3, 8, 9, 6]\n",
    "\n",
    "product = 1\n",
    "for ele in ls:\n",
    "    product *= ele\n",
    "print(\"Product is: {} \".format(product))"
   ]
  },
  {
   "cell_type": "code",
   "execution_count": null,
   "metadata": {},
   "outputs": [],
   "source": [
    "lst = [\"Shayo\", \"Dayo\", \"Tolani\", \"Muraino\", \"Feyishara\"]\n",
    "\n",
    "# for index in range(len(lst)):\n",
    "#     print(lst[index])\n",
    "for ele in lst:\n",
    "    print(ele)"
   ]
  },
  {
   "cell_type": "code",
   "execution_count": null,
   "metadata": {},
   "outputs": [],
   "source": [
    "number = [2, 3, 4, 5, 6, 7,]\n",
    "\n",
    "for num in number:\n",
    "    if num % 2 == 0:\n",
    "        continue\n",
    "    print(\"Number is divisible by 2 {}\".format(num))\n",
    "else:\n",
    "    print(\"els block\")\n",
    "    "
   ]
  },
  {
   "cell_type": "code",
   "execution_count": null,
   "metadata": {},
   "outputs": [],
   "source": [
    "num = int(input(\"Enter a number: \"))\n",
    "\n",
    "isDivisible = False\n",
    "i = 2\n",
    "\n",
    "while num > i:\n",
    "    if num % 2 == 0:\n",
    "        isDivible = True\n",
    "        print(\"{} is divible by {}\".format(num, i))\n",
    "        break\n",
    "    i += 1\n",
    "if isDivisible:\n",
    "    print(\"{} is not a prime number \".format(num))\n",
    "else:\n",
    "    print(\"{} is a prime number \".format(num))"
   ]
  },
  {
   "cell_type": "code",
   "execution_count": null,
   "metadata": {},
   "outputs": [],
   "source": [
    "squares = []\n",
    "\n",
    "for i in range(10):\n",
    "    squares.append(i ** 2) \n",
    "print(squares)"
   ]
  },
  {
   "cell_type": "code",
   "execution_count": null,
   "metadata": {},
   "outputs": [],
   "source": [
    "squares = [i**2 for i in range(10)]\n",
    "print(squares)"
   ]
  },
  {
   "cell_type": "code",
   "execution_count": null,
   "metadata": {},
   "outputs": [],
   "source": [
    "lst = [-20, -10, 20, 30, 40]\n",
    "\n",
    "lst_ = [i*2 for i in lst]\n",
    "print(lst_)\n",
    "\n",
    "new_lst = [i for i in lst if i <= 0]\n",
    "print(new_lst)\n",
    "\n",
    "new_lst_ = [(i, i**2) for i in range(10)]\n",
    "print(new_lst_)"
   ]
  },
  {
   "cell_type": "code",
   "execution_count": null,
   "metadata": {},
   "outputs": [],
   "source": [
    "matrix = [\n",
    "    [1, 2, 3, 4,\n",
    "    2, 9, 1, 6]\n",
    "    \n",
    "]\n",
    "transposed = [[row[i] for row in matrix] for i in range(4)]\n",
    "print(transposed)"
   ]
  },
  {
   "cell_type": "code",
   "execution_count": null,
   "metadata": {},
   "outputs": [],
   "source": [
    "dict = {\"cohort1\": 45, \"cohort\": 30, \"cohort3\": 50, \"cohort\":40}\n",
    "print(dict.get(\"cohort2\"))"
   ]
  },
  {
   "cell_type": "code",
   "execution_count": null,
   "metadata": {},
   "outputs": [],
   "source": [
    "print(dict.get(\"cohort\"))"
   ]
  },
  {
   "cell_type": "code",
   "execution_count": null,
   "metadata": {},
   "outputs": [],
   "source": [
    "squares = {2: 4, 3: 9, 4: 16, 5: 25}\n",
    "squares[2]"
   ]
  },
  {
   "cell_type": "code",
   "execution_count": null,
   "metadata": {},
   "outputs": [],
   "source": [
    "squares[4]\n"
   ]
  },
  {
   "cell_type": "code",
   "execution_count": null,
   "metadata": {},
   "outputs": [],
   "source": [
    "del squares[3]\n",
    "print(squares)"
   ]
  },
  {
   "cell_type": "code",
   "execution_count": null,
   "metadata": {},
   "outputs": [],
   "source": [
    "squares.items()"
   ]
  },
  {
   "cell_type": "code",
   "execution_count": null,
   "metadata": {},
   "outputs": [],
   "source": [
    "new_squares = {k: k for k, v in squares.items() if k < 5}\n",
    "new_squares"
   ]
  },
  {
   "cell_type": "code",
   "execution_count": null,
   "metadata": {},
   "outputs": [],
   "source": [
    "nw_sq = {k: v ** 2 for k, v in squares.items()}\n",
    "nw_sq"
   ]
  },
  {
   "cell_type": "code",
   "execution_count": null,
   "metadata": {},
   "outputs": [],
   "source": [
    "number = [2, 3, 4, 5]\n",
    "\n",
    "squares = []\n",
    "for i in number:\n",
    "    squares.append(i**2)\n",
    "print(squares)"
   ]
  },
  {
   "cell_type": "code",
   "execution_count": null,
   "metadata": {},
   "outputs": [],
   "source": [
    "number = [2, 3, 4, 5]\n",
    "\n",
    "def powerOfNumber(num):\n",
    "    return num ** 2\n",
    "squared = list(map(powerOfNumber, number))\n",
    "print(squared)"
   ]
  },
  {
   "cell_type": "code",
   "execution_count": null,
   "metadata": {},
   "outputs": [],
   "source": [
    "number = (2, 3, 4, 5)\n",
    "def powOfNum(num):\n",
    "    return num**3\n",
    "squared = list(map(powOfNum, number))\n",
    "print(squared)"
   ]
  },
  {
   "cell_type": "code",
   "execution_count": null,
   "metadata": {},
   "outputs": [],
   "source": [
    "product = 1\n",
    "\n",
    "lst = [2, 3, 4, 5]\n",
    "for num in lst:\n",
    "    product *= num\n",
    "print(product)"
   ]
  },
  {
   "cell_type": "code",
   "execution_count": null,
   "metadata": {},
   "outputs": [],
   "source": [
    "from functools import reduce\n",
    "\n",
    "def multiply(x, y):\n",
    "    return x*y\n",
    "product = reduce(multiply, lst)\n",
    "print(product)"
   ]
  },
  {
   "cell_type": "code",
   "execution_count": null,
   "metadata": {},
   "outputs": [],
   "source": [
    "def product_num(a,b):\n",
    "    '''\n",
    "    This function returns the product of two numbers\n",
    "    '''\n",
    "    product = a*b\n",
    "    return product\n",
    "num1 = 10\n",
    "num2 = 30\n",
    "print (\"The product of {} and {} is {} \".format(num1, num2, product_num(num1, num2)))\n"
   ]
  },
  {
   "cell_type": "code",
   "execution_count": null,
   "metadata": {},
   "outputs": [],
   "source": [
    "def Add(a, b):\n",
    "    '''\n",
    "    This function adds two numbers together\n",
    "    '''\n",
    "    return a + b\n",
    "def Subtract(a,b):\n",
    "    '''\n",
    "    This function removes a number from the other\n",
    "    '''\n",
    "    return a-b\n",
    "def Divide(a,b):\n",
    "    '''\n",
    "    This function divides two numbers \n",
    "    '''\n",
    "    return a/b\n",
    "def multiply(a,b):\n",
    "    '''\n",
    "    This function multiply two numbers together\n",
    "    '''\n",
    "    return a*b\n",
    "\n",
    "\n",
    "print(\"Choice 1: returns addition\")\n",
    "print(\"Choice 2: returns Subtraction\")\n",
    "print(\"Choice 3: returns Division\")\n",
    "print(\"Choice 4: returns Multiplication\")\n",
    "\n",
    "choice = int(input(\"Enter a choice: \"))\n",
    "num1 = int(input(\"First number: \"))\n",
    "num2 = int(input('Second number: '))\n",
    "\n",
    "if choice == 1:\n",
    "    print(\"The Addition of {} with {} is {} \".format(num1, num2, Add(num1, num2)))\n",
    "elif choice == 2:\n",
    "    print(\"The Subtraction of {} from {} is {} \".format(num1, num2, Subtract(num1, num2)))\n",
    "elif choice == 3:\n",
    "    print(\"The Division of {} by {} is {} \".format(num1, num2, Divide(num1, num2)))\n",
    "elif choice == 4:\n",
    "    print(\"The Multiplication of {} and {} is {} \".format(num1, num2, Multiply(num1, num2)))\n",
    "else:\n",
    "    print(\"Choice is invalid\")"
   ]
  },
  {
   "cell_type": "code",
   "execution_count": null,
   "metadata": {},
   "outputs": [],
   "source": [
    "def greet(name, msg = \"how are you doing?\"):\n",
    "    '''\n",
    "    This function returns a message to someone with a message\n",
    "    '''\n",
    "    print(\"Hello {}, {}\".format(name, msg))\n",
    "greet(\"Saki\", \"Are you coming?\")"
   ]
  },
  {
   "cell_type": "code",
   "execution_count": null,
   "metadata": {},
   "outputs": [],
   "source": [
    "greet(\"Saki\")"
   ]
  },
  {
   "cell_type": "code",
   "execution_count": null,
   "metadata": {},
   "outputs": [],
   "source": [
    "def greet(**kwargs):\n",
    "    '''\n",
    "    This returns a greeting message to a person\n",
    "    '''\n",
    "    print(\"Hello {}, {} \".format(kwargs[\"name\"], kwargs[\"msg\"]))\n",
    "greet(name=\"Tom\", msg=\"where are you?\")"
   ]
  },
  {
   "cell_type": "code",
   "execution_count": null,
   "metadata": {},
   "outputs": [],
   "source": [
    "def greet(*names):\n",
    "    '''\n",
    "    Function returns names\n",
    "    '''\n",
    "    print(names)\n",
    "    for name in names:\n",
    "        print(\"Hello, {0} \".format(name))\n",
    "greet(\"Feyishara\", \"Feyishaya\", \"Muyiwa\", \"Mojid\")"
   ]
  },
  {
   "cell_type": "code",
   "execution_count": null,
   "metadata": {},
   "outputs": [],
   "source": [
    "def factorial(num):\n",
    "    '''\n",
    "    This function returns the factorial of number specified\n",
    "    '''\n",
    "    return 1 if num == 1 else (num * factorial(num - 1))\n",
    "num = 5\n",
    "print(\"The  factorial of {} is {} \".format(num, fatcorial(num)))"
   ]
  },
  {
   "cell_type": "code",
   "execution_count": null,
   "metadata": {},
   "outputs": [],
   "source": [
    "def fibonacci(num):\n",
    "    '''\n",
    "    This return the function of a fibonacci sequence\n",
    "    '''\n",
    "    return num if num <= 1 else fibonacci(num-1) + fibonacci(num-2)\n",
    "nterms = 10\n",
    "print(\"fibonacci sequence\")\n",
    "for num in range(nterms):\n",
    "    print(fibonacci(num))"
   ]
  },
  {
   "cell_type": "code",
   "execution_count": null,
   "metadata": {},
   "outputs": [],
   "source": [
    "lst = [1, 2, 3, 4, 5]\n",
    "even_num = list(filter(lambda x: (x%2 == 0), lst))\n",
    "print(even_num)"
   ]
  },
  {
   "cell_type": "code",
   "execution_count": null,
   "metadata": {},
   "outputs": [],
   "source": [
    "lst_ = [1, 2, 3, 4, 5]\n",
    "even_num_ = list(map(lambda x: x ** 2, lst_))\n",
    "print(even_num_)"
   ]
  },
  {
   "cell_type": "code",
   "execution_count": null,
   "metadata": {},
   "outputs": [],
   "source": [
    "from functools import reduce\n",
    "ls = [1, 2, 3, 4, 5]\n",
    "evn_no = reduce(lambda x, y: x*y, ls)\n",
    "print(evn_no)"
   ]
  },
  {
   "cell_type": "code",
   "execution_count": null,
   "metadata": {},
   "outputs": [],
   "source": [
    "import datetime\n",
    "datetime.datetime.now()"
   ]
  },
  {
   "cell_type": "code",
   "execution_count": null,
   "metadata": {},
   "outputs": [],
   "source": [
    "from datetime import datetime\n",
    "datetime.now()"
   ]
  },
  {
   "cell_type": "code",
   "execution_count": null,
   "metadata": {},
   "outputs": [],
   "source": [
    "import os\n",
    "os.getcwd()\n",
    "\n",
    "f = open(\"example.txt\")\n",
    "f.close()\n",
    "# f = open(\"example.txt\", \"r\")\n",
    "# f = open(\"text.txt\", 'w')\n",
    "\n",
    "try:\n",
    "    f = open(\"example.txt\")\n",
    "finally:\n",
    "    f.close()\n"
   ]
  },
  {
   "cell_type": "code",
   "execution_count": null,
   "metadata": {},
   "outputs": [],
   "source": [
    "import sys\n",
    "lst = ['b', 0, 2]\n",
    "for entry in lst:\n",
    "    try:\n",
    "        print(\"Entry in lst: \", lst)\n",
    "        r = 1 / int(entry)\n",
    "    except:\n",
    "        print(\"Oops!\", sys.exc_info()[0], \"occured\")\n",
    "        print(\"Next entry\")\n",
    "        print(\"**********************************\")\n",
    "print(\"The reciprocal of\", entry, \"is\", r)\n"
   ]
  },
  {
   "cell_type": "code",
   "execution_count": null,
   "metadata": {},
   "outputs": [],
   "source": [
    "lst = ['b', 0, 2]\n",
    "for entry in lst:\n",
    "    try:\n",
    "        print(\"********************\")\n",
    "        print(\"The entry is\")\n",
    "        r = 1 / int(entry)\n",
    "    except (ValueError):\n",
    "        print(\"This is a ValueError\")\n",
    "    except (ZeroDivisionError):\n",
    "        print(\"This is a ZeroError\")\n",
    "    except:\n",
    "        print(\"Other type of errors\")\n",
    "print(\"The reciprocal of\", entry, \"is\", r)"
   ]
  },
  {
   "cell_type": "code",
   "execution_count": null,
   "metadata": {},
   "outputs": [],
   "source": [
    "try:\n",
    "    num = int(input(\"Enter a number: \"))\n",
    "    if num <= 0:\n",
    "        raise ValueError(\"Error: Entered a negative number.\")\n",
    "except ValueError as e:\n",
    "    print(e)"
   ]
  },
  {
   "cell_type": "code",
   "execution_count": null,
   "metadata": {},
   "outputs": [],
   "source": [
    "L = range(1000)\n",
    "%timeit [i**2 for i in L]"
   ]
  },
  {
   "cell_type": "code",
   "execution_count": null,
   "metadata": {},
   "outputs": [],
   "source": [
    "import numpy as np\n",
    "a = np.arange(1000)\n",
    "%timeit 1 ** 2"
   ]
  },
  {
   "cell_type": "code",
   "execution_count": null,
   "metadata": {},
   "outputs": [],
   "source": [
    "import numpy as np\n",
    "import matplotlib.pyplot as plt\n",
    "import seaborn as sns\n",
    "import pandas as pd"
   ]
  },
  {
   "cell_type": "code",
   "execution_count": null,
   "metadata": {},
   "outputs": [],
   "source": [
    "thera = pd.read_csv(\"Thera Bank.csv\")\n",
    "thera"
   ]
  },
  {
   "cell_type": "code",
   "execution_count": null,
   "metadata": {},
   "outputs": [],
   "source": [
    "thera.shape"
   ]
  },
  {
   "cell_type": "code",
   "execution_count": null,
   "metadata": {},
   "outputs": [],
   "source": [
    "thera.columns"
   ]
  },
  {
   "cell_type": "code",
   "execution_count": null,
   "metadata": {},
   "outputs": [],
   "source": [
    "thera.describe()"
   ]
  },
  {
   "cell_type": "code",
   "execution_count": null,
   "metadata": {},
   "outputs": [],
   "source": [
    "new_thera = (thera.drop[\"ID\", \"ZIP Code\"], axis=1)"
   ]
  },
  {
   "cell_type": "code",
   "execution_count": null,
   "metadata": {},
   "outputs": [],
   "source": [
    "import numpy as np\n",
    "import pandas as pd\n",
    "import matplotlib.pyplot as plt\n",
    "import seaborn as sns"
   ]
  },
  {
   "cell_type": "code",
   "execution_count": null,
   "metadata": {},
   "outputs": [],
   "source": [
    "habman = pd.read_csv(\"haberman.csv\")\n",
    "habman.head()"
   ]
  },
  {
   "cell_type": "code",
   "execution_count": null,
   "metadata": {},
   "outputs": [],
   "source": [
    "habman.tail()"
   ]
  },
  {
   "cell_type": "code",
   "execution_count": null,
   "metadata": {},
   "outputs": [],
   "source": [
    "habman.describe"
   ]
  },
  {
   "cell_type": "code",
   "execution_count": null,
   "metadata": {},
   "outputs": [],
   "source": [
    "habman.columns"
   ]
  },
  {
   "cell_type": "code",
   "execution_count": null,
   "metadata": {},
   "outputs": [],
   "source": [
    "habman.columns =  [\"Age\", \"years_of_operation\", \"positive_lymph_node\", \"survival_status\"]\n",
    "habman.head()"
   ]
  },
  {
   "cell_type": "code",
   "execution_count": null,
   "metadata": {},
   "outputs": [],
   "source": [
    "habman.shape"
   ]
  },
  {
   "cell_type": "code",
   "execution_count": null,
   "metadata": {},
   "outputs": [],
   "source": [
    "habman[\"survival_status\"].value_counts()"
   ]
  },
  {
   "cell_type": "code",
   "execution_count": null,
   "metadata": {},
   "outputs": [],
   "source": [
    "def status_rating(a):\n",
    "    if a == 1:\n",
    "        return(\"survived\")\n",
    "    elif a == 2:\n",
    "        return(\"dead\")\n",
    "    else:\n",
    "        print(\"no report\")\n",
    "    return status_rating\n",
    "\n"
   ]
  },
  {
   "cell_type": "code",
   "execution_count": null,
   "metadata": {},
   "outputs": [],
   "source": [
    "habman[\"labels\"] = habman[\"survival_status\"].apply(status_rating)\n",
    "habman.tail(5)"
   ]
  },
  {
   "cell_type": "code",
   "execution_count": null,
   "metadata": {},
   "outputs": [],
   "source": [
    "habman.tail(4)"
   ]
  },
  {
   "cell_type": "code",
   "execution_count": null,
   "metadata": {},
   "outputs": [],
   "source": [
    "habman.plot(kind=\"scatter\", x=\"Age\", y=\"positive_lymph_node\")\n",
    "plt.show()"
   ]
  },
  {
   "cell_type": "code",
   "execution_count": null,
   "metadata": {},
   "outputs": [],
   "source": [
    "habman.plot(kind=\"scatter\", y=\"Age\", x=\"years_of_operation\")\n",
    "plt.show()"
   ]
  },
  {
   "cell_type": "code",
   "execution_count": null,
   "metadata": {},
   "outputs": [],
   "source": [
    "habman.plot(kind=\"scatter\", x=\"positive_lymph_node\", y=\"years_of_operation\")\n",
    "plt.show()"
   ]
  },
  {
   "cell_type": "code",
   "execution_count": null,
   "metadata": {},
   "outputs": [],
   "source": [
    "sns.set_style(\"whitegrid\")\n",
    "sns.FacetGrid(habman, hue=\"survival_status\", size=6)\\\n",
    "    .map(plt.scatter, \"Age\", \"positive_lymph_node\")\\\n",
    "    .add_legend()\n",
    "plt.show()"
   ]
  },
  {
   "cell_type": "code",
   "execution_count": null,
   "metadata": {},
   "outputs": [],
   "source": [
    "plt.close()\n",
    "sns.set_style(\"whitegrid\")\n",
    "sns.pairplot(habman, hue=\"survival_status\", size=3, diag_kind=\"kde\")\n",
    "plt.show()"
   ]
  },
  {
   "cell_type": "code",
   "execution_count": null,
   "metadata": {},
   "outputs": [],
   "source": [
    "habman_survive = habman.loc[habman[\"survival_status\"] == 1]\n",
    "habman_dead = habman.loc[habman[\"survival_status\"] == 2]\n",
    "\n",
    "plt.plot(habman_survival[\"positive_lymph_node\"], np.zeros_like(habman_survival[\"positive_lymph_node\"]))\n",
    "plt.plot(habman_dead[\"positive_lymph_node\"], np.zeros_like(habman_dead[\"positive_lymph_node\"]))\n",
    "\n",
    "plt.show()"
   ]
  },
  {
   "cell_type": "code",
   "execution_count": null,
   "metadata": {},
   "outputs": [],
   "source": [
    "sns.FacetGrid(habman, hue=\"labels\", size=5) \\\n",
    "    .map(sns.distplot, \"positive_lymph_node\") \\\n",
    "    .add_legend()\n",
    "plt.show()"
   ]
  },
  {
   "cell_type": "code",
   "execution_count": null,
   "metadata": {},
   "outputs": [],
   "source": [
    "sns.FacetGrid(habman, hue=\"labels\", size=6) \\\n",
    "    .map(sns.distplot, \"years_of_operation\") \\\n",
    "        .add_legend()\n",
    "plt.show()"
   ]
  },
  {
   "cell_type": "code",
   "execution_count": null,
   "metadata": {},
   "outputs": [],
   "source": [
    "sns.FacetGrid(habman, hue=\"labels\", size=4) \\\n",
    "    .map(sns.distplot, \"Age\") \\\n",
    "    .add_legend()\n",
    "plt.show()"
   ]
  },
  {
   "cell_type": "code",
   "execution_count": null,
   "metadata": {},
   "outputs": [],
   "source": [
    "counts, bin_edges = np.histogram(habman_survive[\"positive_lymph_node\"], bins=10,\n",
    "                                 density=True)\n",
    "\n",
    "pdf = counts/(sum(counts))\n",
    "print(pdf);\n",
    "print(bin_edges)\n",
    "\n",
    "cdf = np.cumsum(pdf)\n",
    "plt.plot(bin_edges[1:], pdf)\n",
    "plt.plot(bin_edges[1:], cdf)\n",
    "plt.legend([\"pdf: for patients who survived for more than 5 years\",\n",
    "           \"cdf: for patients who survived for more than 5 years\"])\n",
    "plt.show()"
   ]
  },
  {
   "cell_type": "code",
   "execution_count": null,
   "metadata": {},
   "outputs": [],
   "source": [
    "print(habman_survival)"
   ]
  },
  {
   "cell_type": "code",
   "execution_count": null,
   "metadata": {},
   "outputs": [],
   "source": [
    "print(habman_dead)"
   ]
  },
  {
   "cell_type": "code",
   "execution_count": null,
   "metadata": {},
   "outputs": [],
   "source": [
    "counts, bin_edges = np.histogram(habman_dead[\"positive_lymph_node\"], bins=10, density=True)\n",
    "\n",
    "pdf = counts/(sum(counts))\n",
    "print(pdf)\n",
    "print(bin_edges)\n",
    "\n",
    "cdf = np.cumsum(pdf)\n",
    "plt.plot(bin_edges[1:], pdf)\n",
    "plt.plot(bin_edges[1:], cdf)\n",
    "plt.legend([\"pdf: for patients who could not survive for more than 5 years\",\n",
    "           \"cdf: for patients who could not survive for more than 5 years\"])\n",
    "plt.show()"
   ]
  },
  {
   "cell_type": "code",
   "execution_count": null,
   "metadata": {},
   "outputs": [],
   "source": [
    "print(\"Mean:\")\n",
    "\n",
    "print(np.mean(habman_survive[\"positive_lymph_node\"]))\n",
    "print(np.mean(habman_dead[\"positive_lymph_node\"]))\n",
    "#mean with an outlier\n",
    "print(np.mean(np.append(habman_survive[\"positive_lymph_node\"], 50)))\n",
    "\n",
    "print(\"\\nMedian:\")\n",
    "\n",
    "print(np.median(habman_survive[\"positive_lymph_node\"]))\n",
    "print(np.median(habman_dead[\"positive_lymph_node\"]))\n",
    "#median with an outlier\n",
    "print(np.median(np.append(habman_survive[\"positive_lymph_node\"], 50)))\n",
    "\n",
    "print(\"\\n90th Percentile:\")\n",
    "print(np.percentile(habman_survive[\"positive_lymph_node\"], 90))\n",
    "print(np.percentile(habman_dead[\"positive_lymph_node\"], 90))\n",
    "\n",
    "print(\"\\nQuantile:\")\n",
    "print(np.percentile(habman_survive[\"positive_lymph_node\"], np.arange(0, 100, 25)))\n",
    "print(np.percentile(habman_dead[\"positive_lymph_node\"], np.arange(0, 100, 25)))\n",
    "\n",
    "from statsmodels import robust\n",
    "\n",
    "print(\"\\nMedian Absolute Deviation:\")\n",
    "print(robust.mad(habman_survive[\"positive_lymph_node\"]))\n",
    "print(robust.mad(habman_dead[\"positive_lymph_node\"]))"
   ]
  },
  {
   "cell_type": "code",
   "execution_count": null,
   "metadata": {},
   "outputs": [],
   "source": [
    "print(\"Summary of Statistics of Patients who are alive for more than 5 years:\")\n",
    "habman_survive.describe()"
   ]
  },
  {
   "cell_type": "code",
   "execution_count": null,
   "metadata": {},
   "outputs": [],
   "source": [
    "print(\"Summary Statistics of Patients who are alive for more than 5 years:\")\n",
    "habman_dead.describe()"
   ]
  },
  {
   "cell_type": "code",
   "execution_count": null,
   "metadata": {},
   "outputs": [],
   "source": [
    "sns.boxplot(y=\"positive_lymph_node\", x=\"survival_status\", data=habman)\n",
    "plt.show()"
   ]
  },
  {
   "cell_type": "code",
   "execution_count": null,
   "metadata": {
    "scrolled": true
   },
   "outputs": [],
   "source": [
    "sns.violinplot(x=\"survival_status\", y=\"positive_lymph_node\", data=habman, size=8)\n",
    "plt.show()"
   ]
  },
  {
   "cell_type": "code",
   "execution_count": null,
   "metadata": {},
   "outputs": [],
   "source": [
    "sns.jointplot(x=\"positive_lymph_node\", y=\"years_of_operation\", data=habman_survive, kind=\"kde\")\n",
    "plt.show()"
   ]
  },
  {
   "cell_type": "code",
   "execution_count": null,
   "metadata": {},
   "outputs": [],
   "source": []
  }
 ],
 "metadata": {
  "kernelspec": {
   "display_name": "Python 3",
   "language": "python",
   "name": "python3"
  },
  "language_info": {
   "codemirror_mode": {
    "name": "ipython",
    "version": 3
   },
   "file_extension": ".py",
   "mimetype": "text/x-python",
   "name": "python",
   "nbconvert_exporter": "python",
   "pygments_lexer": "ipython3",
   "version": "3.7.6"
  }
 },
 "nbformat": 4,
 "nbformat_minor": 4
}
